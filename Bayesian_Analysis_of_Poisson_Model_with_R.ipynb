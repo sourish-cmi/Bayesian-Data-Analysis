{
  "nbformat": 4,
  "nbformat_minor": 0,
  "metadata": {
    "kernelspec": {
      "display_name": "R",
      "language": "R",
      "name": "ir"
    },
    "language_info": {
      "codemirror_mode": "r",
      "file_extension": ".r",
      "mimetype": "text/x-r-source",
      "name": "R",
      "pygments_lexer": "r",
      "version": "3.3.1"
    },
    "colab": {
      "name": "Bayesian Analysis of Poisson Model with R.ipynb",
      "provenance": [],
      "collapsed_sections": []
    }
  },
  "cells": [
    {
      "cell_type": "markdown",
      "metadata": {
        "id": "pT7yQBgzpM9g"
      },
      "source": [
        "### **Introduction**\n",
        "    \n",
        "* Suppose $Y \\sim p(y|\\theta)$ and $p(\\theta)$ is the prior distribution over $\\theta$\n",
        "\n",
        "* Our objective is to make statistical inference about $\\theta$\n",
        "\n",
        "* The **posterior distribution** is:\n",
        "$$\n",
        "p(\\theta|y)=\\frac{p(y|\\theta)p(\\theta)}{\\int_{\\Theta}p(y|\\theta)p(\\theta)d\\theta}\n",
        "$$\n",
        "\n",
        "* **Posterior mean**: *integration problem*\n",
        "$$\n",
        "\\mathbb{E}(\\theta|y)=\\int_{\\Theta}\\theta p(\\theta|y)d\\theta =g(y)\n",
        "$$\n",
        "\n",
        "* **Posterior median**: *integration problem*\n",
        "$$\n",
        "\\int_{-\\infty}^{\\mu_0} p(\\theta|y)d\\theta =\\frac{1}{2},\n",
        "$$\n",
        "\n",
        "* **Posterior Mode**: *optimization problem*\n",
        "\\begin{eqnarray*}\n",
        "\\hat{\\theta}&=&\\text{argmax}_{\\Theta}~p(\\theta|y)\\\\\n",
        "&=&\\text{argmax}_{\\Theta}p(y|\\theta)p(\\theta)\n",
        "\\end{eqnarray*}\n",
        "\n",
        "* **Posterior predictive distribution**:\n",
        "$$\n",
        "p(\\tilde{y}|y)=\\int_{\\Theta}p(\\tilde{y}|\\theta,y)p(\\theta|y)d\\theta\n",
        "$$\n"
      ]
    },
    {
      "cell_type": "markdown",
      "metadata": {
        "id": "kqPzsKcpRy2q"
      },
      "source": [
        "Download the data from the following website: https://www.football-data.co.uk/"
      ]
    },
    {
      "cell_type": "code",
      "metadata": {
        "id": "6F5Meds-pM9m",
        "colab": {
          "base_uri": "https://localhost:8080/",
          "height": 325
        },
        "outputId": "8cec0031-f76e-4af5-a955-5c99e9ef94ab"
      },
      "source": [
        "data<-read.csv(file='https://www.football-data.co.uk/mmz4281/1920/E0.csv',header = TRUE)\n",
        "head(data)"
      ],
      "execution_count": null,
      "outputs": [
        {
          "output_type": "display_data",
          "data": {
            "text/plain": [
              "  Div Date       Time  HomeTeam       AwayTeam         FTHG FTAG FTR HTHG HTAG\n",
              "1 E0  09/08/2019 20:00 Liverpool      Norwich          4    1    H   4    0   \n",
              "2 E0  10/08/2019 12:30 West Ham       Man City         0    5    A   0    1   \n",
              "3 E0  10/08/2019 15:00 Bournemouth    Sheffield United 1    1    D   0    0   \n",
              "4 E0  10/08/2019 15:00 Burnley        Southampton      3    0    H   0    0   \n",
              "5 E0  10/08/2019 15:00 Crystal Palace Everton          0    0    D   0    0   \n",
              "6 E0  10/08/2019 15:00 Watford        Brighton         0    3    A   0    1   \n",
              "  ⋯ AvgC.2.5.1 AHCh  B365CAHH B365CAHA PCAHH PCAHA MaxCAHH MaxCAHA AvgCAHH\n",
              "1 ⋯ 3.43       -2.25 1.91     1.99     1.94  1.98  1.99    2.07    1.90   \n",
              "2 ⋯ 2.91        1.75 1.95     1.95     1.96  1.97  2.07    1.98    1.97   \n",
              "3 ⋯ 1.92       -0.50 1.95     1.95     1.98  1.95  2.00    1.96    1.96   \n",
              "4 ⋯ 1.71        0.00 1.87     2.03     1.89  2.03  1.90    2.07    1.86   \n",
              "5 ⋯ 1.71        0.25 1.82     2.08     1.97  1.96  2.03    2.08    1.96   \n",
              "6 ⋯ 1.73       -0.50 2.04     1.86     2.05  1.88  2.12    1.91    2.05   \n",
              "  AvgCAHA\n",
              "1 1.99   \n",
              "2 1.92   \n",
              "3 1.92   \n",
              "4 2.02   \n",
              "5 1.93   \n",
              "6 1.84   "
            ],
            "text/latex": "A data.frame: 6 × 106\n\\begin{tabular}{r|lllllllllllllllllllll}\n  & Div & Date & Time & HomeTeam & AwayTeam & FTHG & FTAG & FTR & HTHG & HTAG & ⋯ & AvgC.2.5.1 & AHCh & B365CAHH & B365CAHA & PCAHH & PCAHA & MaxCAHH & MaxCAHA & AvgCAHH & AvgCAHA\\\\\n  & <chr> & <chr> & <chr> & <chr> & <chr> & <int> & <int> & <chr> & <int> & <int> & ⋯ & <dbl> & <dbl> & <dbl> & <dbl> & <dbl> & <dbl> & <dbl> & <dbl> & <dbl> & <dbl>\\\\\n\\hline\n\t1 & E0 & 09/08/2019 & 20:00 & Liverpool      & Norwich          & 4 & 1 & H & 4 & 0 & ⋯ & 3.43 & -2.25 & 1.91 & 1.99 & 1.94 & 1.98 & 1.99 & 2.07 & 1.90 & 1.99\\\\\n\t2 & E0 & 10/08/2019 & 12:30 & West Ham       & Man City         & 0 & 5 & A & 0 & 1 & ⋯ & 2.91 &  1.75 & 1.95 & 1.95 & 1.96 & 1.97 & 2.07 & 1.98 & 1.97 & 1.92\\\\\n\t3 & E0 & 10/08/2019 & 15:00 & Bournemouth    & Sheffield United & 1 & 1 & D & 0 & 0 & ⋯ & 1.92 & -0.50 & 1.95 & 1.95 & 1.98 & 1.95 & 2.00 & 1.96 & 1.96 & 1.92\\\\\n\t4 & E0 & 10/08/2019 & 15:00 & Burnley        & Southampton      & 3 & 0 & H & 0 & 0 & ⋯ & 1.71 &  0.00 & 1.87 & 2.03 & 1.89 & 2.03 & 1.90 & 2.07 & 1.86 & 2.02\\\\\n\t5 & E0 & 10/08/2019 & 15:00 & Crystal Palace & Everton          & 0 & 0 & D & 0 & 0 & ⋯ & 1.71 &  0.25 & 1.82 & 2.08 & 1.97 & 1.96 & 2.03 & 2.08 & 1.96 & 1.93\\\\\n\t6 & E0 & 10/08/2019 & 15:00 & Watford        & Brighton         & 0 & 3 & A & 0 & 1 & ⋯ & 1.73 & -0.50 & 2.04 & 1.86 & 2.05 & 1.88 & 2.12 & 1.91 & 2.05 & 1.84\\\\\n\\end{tabular}\n",
            "text/markdown": "\nA data.frame: 6 × 106\n\n| <!--/--> | Div &lt;chr&gt; | Date &lt;chr&gt; | Time &lt;chr&gt; | HomeTeam &lt;chr&gt; | AwayTeam &lt;chr&gt; | FTHG &lt;int&gt; | FTAG &lt;int&gt; | FTR &lt;chr&gt; | HTHG &lt;int&gt; | HTAG &lt;int&gt; | ⋯ ⋯ | AvgC.2.5.1 &lt;dbl&gt; | AHCh &lt;dbl&gt; | B365CAHH &lt;dbl&gt; | B365CAHA &lt;dbl&gt; | PCAHH &lt;dbl&gt; | PCAHA &lt;dbl&gt; | MaxCAHH &lt;dbl&gt; | MaxCAHA &lt;dbl&gt; | AvgCAHH &lt;dbl&gt; | AvgCAHA &lt;dbl&gt; |\n|---|---|---|---|---|---|---|---|---|---|---|---|---|---|---|---|---|---|---|---|---|---|\n| 1 | E0 | 09/08/2019 | 20:00 | Liverpool      | Norwich          | 4 | 1 | H | 4 | 0 | ⋯ | 3.43 | -2.25 | 1.91 | 1.99 | 1.94 | 1.98 | 1.99 | 2.07 | 1.90 | 1.99 |\n| 2 | E0 | 10/08/2019 | 12:30 | West Ham       | Man City         | 0 | 5 | A | 0 | 1 | ⋯ | 2.91 |  1.75 | 1.95 | 1.95 | 1.96 | 1.97 | 2.07 | 1.98 | 1.97 | 1.92 |\n| 3 | E0 | 10/08/2019 | 15:00 | Bournemouth    | Sheffield United | 1 | 1 | D | 0 | 0 | ⋯ | 1.92 | -0.50 | 1.95 | 1.95 | 1.98 | 1.95 | 2.00 | 1.96 | 1.96 | 1.92 |\n| 4 | E0 | 10/08/2019 | 15:00 | Burnley        | Southampton      | 3 | 0 | H | 0 | 0 | ⋯ | 1.71 |  0.00 | 1.87 | 2.03 | 1.89 | 2.03 | 1.90 | 2.07 | 1.86 | 2.02 |\n| 5 | E0 | 10/08/2019 | 15:00 | Crystal Palace | Everton          | 0 | 0 | D | 0 | 0 | ⋯ | 1.71 |  0.25 | 1.82 | 2.08 | 1.97 | 1.96 | 2.03 | 2.08 | 1.96 | 1.93 |\n| 6 | E0 | 10/08/2019 | 15:00 | Watford        | Brighton         | 0 | 3 | A | 0 | 1 | ⋯ | 1.73 | -0.50 | 2.04 | 1.86 | 2.05 | 1.88 | 2.12 | 1.91 | 2.05 | 1.84 |\n\n",
            "text/html": [
              "<table class=\"dataframe\">\n",
              "<caption>A data.frame: 6 × 106</caption>\n",
              "<thead>\n",
              "\t<tr><th></th><th scope=col>Div</th><th scope=col>Date</th><th scope=col>Time</th><th scope=col>HomeTeam</th><th scope=col>AwayTeam</th><th scope=col>FTHG</th><th scope=col>FTAG</th><th scope=col>FTR</th><th scope=col>HTHG</th><th scope=col>HTAG</th><th scope=col>⋯</th><th scope=col>AvgC.2.5.1</th><th scope=col>AHCh</th><th scope=col>B365CAHH</th><th scope=col>B365CAHA</th><th scope=col>PCAHH</th><th scope=col>PCAHA</th><th scope=col>MaxCAHH</th><th scope=col>MaxCAHA</th><th scope=col>AvgCAHH</th><th scope=col>AvgCAHA</th></tr>\n",
              "\t<tr><th></th><th scope=col>&lt;chr&gt;</th><th scope=col>&lt;chr&gt;</th><th scope=col>&lt;chr&gt;</th><th scope=col>&lt;chr&gt;</th><th scope=col>&lt;chr&gt;</th><th scope=col>&lt;int&gt;</th><th scope=col>&lt;int&gt;</th><th scope=col>&lt;chr&gt;</th><th scope=col>&lt;int&gt;</th><th scope=col>&lt;int&gt;</th><th scope=col>⋯</th><th scope=col>&lt;dbl&gt;</th><th scope=col>&lt;dbl&gt;</th><th scope=col>&lt;dbl&gt;</th><th scope=col>&lt;dbl&gt;</th><th scope=col>&lt;dbl&gt;</th><th scope=col>&lt;dbl&gt;</th><th scope=col>&lt;dbl&gt;</th><th scope=col>&lt;dbl&gt;</th><th scope=col>&lt;dbl&gt;</th><th scope=col>&lt;dbl&gt;</th></tr>\n",
              "</thead>\n",
              "<tbody>\n",
              "\t<tr><th scope=row>1</th><td>E0</td><td>09/08/2019</td><td>20:00</td><td>Liverpool     </td><td>Norwich         </td><td>4</td><td>1</td><td>H</td><td>4</td><td>0</td><td>⋯</td><td>3.43</td><td>-2.25</td><td>1.91</td><td>1.99</td><td>1.94</td><td>1.98</td><td>1.99</td><td>2.07</td><td>1.90</td><td>1.99</td></tr>\n",
              "\t<tr><th scope=row>2</th><td>E0</td><td>10/08/2019</td><td>12:30</td><td>West Ham      </td><td>Man City        </td><td>0</td><td>5</td><td>A</td><td>0</td><td>1</td><td>⋯</td><td>2.91</td><td> 1.75</td><td>1.95</td><td>1.95</td><td>1.96</td><td>1.97</td><td>2.07</td><td>1.98</td><td>1.97</td><td>1.92</td></tr>\n",
              "\t<tr><th scope=row>3</th><td>E0</td><td>10/08/2019</td><td>15:00</td><td>Bournemouth   </td><td>Sheffield United</td><td>1</td><td>1</td><td>D</td><td>0</td><td>0</td><td>⋯</td><td>1.92</td><td>-0.50</td><td>1.95</td><td>1.95</td><td>1.98</td><td>1.95</td><td>2.00</td><td>1.96</td><td>1.96</td><td>1.92</td></tr>\n",
              "\t<tr><th scope=row>4</th><td>E0</td><td>10/08/2019</td><td>15:00</td><td>Burnley       </td><td>Southampton     </td><td>3</td><td>0</td><td>H</td><td>0</td><td>0</td><td>⋯</td><td>1.71</td><td> 0.00</td><td>1.87</td><td>2.03</td><td>1.89</td><td>2.03</td><td>1.90</td><td>2.07</td><td>1.86</td><td>2.02</td></tr>\n",
              "\t<tr><th scope=row>5</th><td>E0</td><td>10/08/2019</td><td>15:00</td><td>Crystal Palace</td><td>Everton         </td><td>0</td><td>0</td><td>D</td><td>0</td><td>0</td><td>⋯</td><td>1.71</td><td> 0.25</td><td>1.82</td><td>2.08</td><td>1.97</td><td>1.96</td><td>2.03</td><td>2.08</td><td>1.96</td><td>1.93</td></tr>\n",
              "\t<tr><th scope=row>6</th><td>E0</td><td>10/08/2019</td><td>15:00</td><td>Watford       </td><td>Brighton        </td><td>0</td><td>3</td><td>A</td><td>0</td><td>1</td><td>⋯</td><td>1.73</td><td>-0.50</td><td>2.04</td><td>1.86</td><td>2.05</td><td>1.88</td><td>2.12</td><td>1.91</td><td>2.05</td><td>1.84</td></tr>\n",
              "</tbody>\n",
              "</table>\n"
            ]
          },
          "metadata": {
            "tags": []
          }
        }
      ]
    },
    {
      "cell_type": "code",
      "metadata": {
        "id": "GRTdVpljpM93",
        "colab": {
          "base_uri": "https://localhost:8080/",
          "height": 34
        },
        "outputId": "b687e147-7e51-45eb-a041-71d0d287bc59"
      },
      "source": [
        "nrow(data)"
      ],
      "execution_count": null,
      "outputs": [
        {
          "output_type": "display_data",
          "data": {
            "text/plain": [
              "[1] 380"
            ],
            "text/latex": "380",
            "text/markdown": "380",
            "text/html": [
              "380"
            ]
          },
          "metadata": {
            "tags": []
          }
        }
      ]
    },
    {
      "cell_type": "code",
      "metadata": {
        "id": "N_l0raSxSjZ6",
        "colab": {
          "base_uri": "https://localhost:8080/",
          "height": 67
        },
        "outputId": "31033269-3a17-421e-e1a3-24800c859ebf"
      },
      "source": [
        "FTHG_freq_table = table(data$FTHG)\n",
        "FTHG_freq_table"
      ],
      "execution_count": null,
      "outputs": [
        {
          "output_type": "display_data",
          "data": {
            "text/plain": [
              "\n",
              "  0   1   2   3   4   5   8 \n",
              " 84 125  99  47  16   8   1 "
            ]
          },
          "metadata": {
            "tags": []
          }
        }
      ]
    },
    {
      "cell_type": "code",
      "metadata": {
        "id": "O97vFYe1SnMl",
        "colab": {
          "base_uri": "https://localhost:8080/",
          "height": 437
        },
        "outputId": "cd02c781-0bbe-4367-cf88-e81f212695bc"
      },
      "source": [
        "barplot(FTHG_freq_table,col = 'orange'\n",
        "         ,main='Goal by Home Team in Full Time'\n",
        "         ,ylab='Frequency: No of Matches'\n",
        "         ,xlab='No of Goal in a Match')"
      ],
      "execution_count": null,
      "outputs": [
        {
          "output_type": "display_data",
          "data": {
            "image/png": "[encoded data removed]",
            "text/plain": [
              "Plot with title “Goal by Home Team in Full Time”"
            ]
          },
          "metadata": {
            "tags": [],
            "image/png": {
              "width": 420,
              "height": 420
            }
          }
        }
      ]
    },
    {
      "cell_type": "code",
      "metadata": {
        "colab": {
          "base_uri": "https://localhost:8080/",
          "height": 34
        },
        "id": "aJnRpvzE1TOT",
        "outputId": "da147171-e97b-47d0-c9cf-55308a7b2b8a"
      },
      "source": [
        "c(round(mean(data$FTHG),3), round(var(data$FTHG),3))"
      ],
      "execution_count": null,
      "outputs": [
        {
          "output_type": "display_data",
          "data": {
            "text/plain": [
              "[1] 1.516 1.559"
            ],
            "text/latex": "\\begin{enumerate*}\n\\item 1.516\n\\item 1.559\n\\end{enumerate*}\n",
            "text/markdown": "1. 1.516\n2. 1.559\n\n\n",
            "text/html": [
              "<style>\n",
              ".list-inline {list-style: none; margin:0; padding: 0}\n",
              ".list-inline>li {display: inline-block}\n",
              ".list-inline>li:not(:last-child)::after {content: \"\\00b7\"; padding: 0 .5ex}\n",
              "</style>\n",
              "<ol class=list-inline><li>1.516</li><li>1.559</li></ol>\n"
            ]
          },
          "metadata": {
            "tags": []
          }
        }
      ]
    },
    {
      "cell_type": "markdown",
      "metadata": {
        "id": "umZa-ETH2CX9"
      },
      "source": [
        "* Number of goals scored by home team in English premier league (EPL) may follow Poisson distribution\n",
        "\n",
        "* Suppose $X$: Number of goals scored by home team in EPL\n",
        "\n",
        "* $D=\\{X_1,X_2,\\cdots,X_n\\} \\sim_{iid} Poisson(\\lambda)$\n",
        "\n",
        "* $T=\\sum_{i=1}^n X_i \\sim Poisson(n\\lambda)$ is a **sufficient statistics**\n",
        "\n",
        "* The concept of **sufficient statistics** is accepted and important in both classical frequentist and Bayesian statistics\n",
        "\n",
        "* One can show:\n",
        "Fisher's Information in $D$ is equal to Fisher's information in $T$\n",
        "\n",
        "* Under the exact same prior $p(\\lambda)$, one can show:\n",
        "$$\n",
        "p(\\lambda | x_1,x_2,\\cdots,x_n ) = p(\\lambda|t) =\\frac{f(t|\\lambda)p(\\lambda)}{\\int f(t|\\lambda)p(\\lambda)d\\lambda}\n",
        "$$\n",
        "\n",
        "* Consider conjugate prior for Poisson: $\\lambda \\sim Gamma(a,b)$ where $\\mathbb{E}(\\lambda)=\\frac{a}{b}$\n",
        "\n",
        "\\begin{eqnarray*}\n",
        "p(\\lambda|t)&\\propto& f(t|\\lambda)p(\\lambda)\\\\\n",
        "&=& e^{-(n\\lambda) }\\frac{(n\\lambda)^t}{t!}\\times \\frac{b^a}{\\Gamma(a)}e^{-b\\lambda}\\lambda^{a-1}\\\\\n",
        "&=& e^{-(n+b)\\lambda}\\lambda^{t+a-1}\\times \\frac{n^tb^a}{t!\\Gamma(a)}\\\\\n",
        "&\\propto& e^{-(n+b)\\lambda}\\lambda^{t+a-1}\n",
        "\\end{eqnarray*}\n",
        "\n",
        "* The **posterior distribution** of $\\lambda$ is $Gamma(a+t,b+n)$\n",
        "\n",
        "* The posterior mean is:\n",
        "\\begin{eqnarray*}\n",
        "\\mathbb{E}(\\lambda|t)&=&\\frac{a+t}{b+n}\\\\\n",
        "&=&\\frac{b}{b+n}\\frac{a}{b}+\\frac{n}{b+n}\\frac{t}{n}\\\\\n",
        "&=&\\frac{b}{b+n}\\mathbb{E}(\\lambda)+\\frac{n}{b+n}\\bar{X},\n",
        "\\end{eqnarray*}\n",
        "\n",
        "* Posterior mean is weighted average of prior mean and MLE, where $\\bar{X}=\\frac{t}{n}=\\frac{\\sum_{i=1}^nx_i}{n}$ is the MLE of $\\lambda$\n",
        "\n",
        "* Suppose we choose $Gamma(a=10,b=10)$ as prior distribution"
      ]
    },
    {
      "cell_type": "code",
      "metadata": {
        "colab": {
          "base_uri": "https://localhost:8080/",
          "height": 34
        },
        "id": "tU_rgRNC2A3f",
        "outputId": "ac58e994-a84b-4aab-eeec-cc540cd76169"
      },
      "source": [
        "t = sum(data$FTHG)\n",
        "t"
      ],
      "execution_count": null,
      "outputs": [
        {
          "output_type": "display_data",
          "data": {
            "text/plain": [
              "[1] 576"
            ],
            "text/latex": "576",
            "text/markdown": "576",
            "text/html": [
              "576"
            ]
          },
          "metadata": {
            "tags": []
          }
        }
      ]
    },
    {
      "cell_type": "markdown",
      "metadata": {
        "id": "V7W2P6AUMRzk"
      },
      "source": [
        "* The posterior is then $Gamma(a+t=10+576,b+n=10+380)$"
      ]
    },
    {
      "cell_type": "code",
      "metadata": {
        "colab": {
          "base_uri": "https://localhost:8080/"
        },
        "id": "d2M287FKMd16",
        "outputId": "06d5f160-6cb8-4e3f-eba5-00cd5417a0e4"
      },
      "source": [
        "t = sum(data$FTHG)\n",
        "n = nrow(data)\n",
        "a = 10\n",
        "b = 10\n",
        "## MLE\n",
        "lambda_hat = t/n\n",
        "cat('MLE of lambda = ',lambda_hat,'\\n')\n",
        "se_mle = sqrt(lambda_hat/n)\n",
        "\n",
        "\n",
        "## Prior mean of lambda\n",
        "cat('Prior mean of lambda = ',a/b,'\\n')\n",
        "\n",
        "\n",
        "## Posterior mean\n",
        "cat('Posterior mean of lambda = ',(t+a)/(n+b),'\\n')\n",
        "\n"
      ],
      "execution_count": null,
      "outputs": [
        {
          "output_type": "stream",
          "text": [
            "MLE of lambda =  1.515789 \n",
            "Prior mean of lambda =  1 \n",
            "Posterior mean of lambda =  1.502564 \n"
          ],
          "name": "stdout"
        }
      ]
    },
    {
      "cell_type": "code",
      "metadata": {
        "colab": {
          "base_uri": "https://localhost:8080/",
          "height": 67
        },
        "id": "Mu3YKQirQfUU",
        "outputId": "6841915a-b6bc-4266-8d00-3c5e997c7d9c"
      },
      "source": [
        "## 95% Bayesian credible interval\n",
        "Bayesian_CI = qgamma(c(0.025,0.5,0.975),shape = t+a,rate=n+b)\n",
        "cat('Bayesian 95% CI = ', Bayesian_CI,'\\n')\n",
        "\n",
        "## 95% Frequentist Interval\n",
        "Frequentist_CI = c(lambda_hat-1.96*se_mle,lambda_hat+1.96*se_mle)\n",
        "cat('Frequentist 95% CI = ', Frequentist_CI,'\\n')\n",
        "\n",
        "## 95% prior Bayesian confidence interval\n",
        "qgamma(c(0.025,0.5,0.975),shape = a,rate=b)"
      ],
      "execution_count": null,
      "outputs": [
        {
          "output_type": "stream",
          "text": [
            "Bayesian 95% CI =  1.383355 1.501709 1.62663 \n",
            "Frequentist 95% CI =  1.392 1.639579 \n"
          ],
          "name": "stdout"
        },
        {
          "output_type": "display_data",
          "data": {
            "text/plain": [
              "[1] 0.4795389 0.9668715 1.7084803"
            ],
            "text/latex": "\\begin{enumerate*}\n\\item 0.479538869613243\n\\item 0.966871461471413\n\\item 1.70848034514192\n\\end{enumerate*}\n",
            "text/markdown": "1. 0.479538869613243\n2. 0.966871461471413\n3. 1.70848034514192\n\n\n",
            "text/html": [
              "<style>\n",
              ".list-inline {list-style: none; margin:0; padding: 0}\n",
              ".list-inline>li {display: inline-block}\n",
              ".list-inline>li:not(:last-child)::after {content: \"\\00b7\"; padding: 0 .5ex}\n",
              "</style>\n",
              "<ol class=list-inline><li>0.479538869613243</li><li>0.966871461471413</li><li>1.70848034514192</li></ol>\n"
            ]
          },
          "metadata": {
            "tags": []
          }
        }
      ]
    },
    {
      "cell_type": "markdown",
      "metadata": {
        "id": "oEis9UxSVwI8"
      },
      "source": [
        "Sampling distribution\n",
        "$$\n",
        "\\hat{\\lambda}\\approx N(\\lambda,\\frac{\\lambda}{n})\n",
        "$$\n",
        "Frequentist 95% CI\n",
        "$$\n",
        "\\hat{\\lambda} \\pm 1.96 \\sqrt{\\frac{\\hat{\\lambda}}{n}}\n",
        "$$"
      ]
    },
    {
      "cell_type": "markdown",
      "metadata": {
        "id": "yOIlFuYCSI3f"
      },
      "source": [
        "**Criticism of Bayesian Statistics** How to choose the hyperparameters? In this case a and b of the Gamma distribution"
      ]
    },
    {
      "cell_type": "code",
      "metadata": {
        "colab": {
          "base_uri": "https://localhost:8080/"
        },
        "id": "_o3a_uMpSXi2",
        "outputId": "2b364712-4393-4761-bbc3-e77f716aea5a"
      },
      "source": [
        "a=1\n",
        "b=1\n",
        "## 95% Bayesian credible interval\n",
        "Bayesian_CI = qgamma(c(0.025,0.5,0.975),shape = t+a,rate=n+b)\n",
        "cat('Bayesian 95% CI = ', Bayesian_CI,'\\n')"
      ],
      "execution_count": null,
      "outputs": [
        {
          "output_type": "stream",
          "text": [
            "Bayesian 95% CI =  1.393371 1.513561 1.640472 \n"
          ],
          "name": "stdout"
        }
      ]
    },
    {
      "cell_type": "code",
      "metadata": {
        "colab": {
          "base_uri": "https://localhost:8080/"
        },
        "id": "RRPzpPoBSySO",
        "outputId": "ea82db1c-6aba-424f-a9b1-18e68a505018"
      },
      "source": [
        "a=10\n",
        "b=10\n",
        "## 95% Bayesian credible interval\n",
        "Bayesian_CI = qgamma(c(0.025,0.5,0.975),shape = t+a,rate=n+b)\n",
        "cat('Bayesian 95% CI = ', Bayesian_CI,'\\n')"
      ],
      "execution_count": null,
      "outputs": [
        {
          "output_type": "stream",
          "text": [
            "Bayesian 95% CI =  1.383355 1.501709 1.62663 \n"
          ],
          "name": "stdout"
        }
      ]
    },
    {
      "cell_type": "code",
      "metadata": {
        "colab": {
          "base_uri": "https://localhost:8080/"
        },
        "id": "eLx8b5Q-S0x-",
        "outputId": "19ebd157-93f2-4e69-81a3-c9b3f3d954f9"
      },
      "source": [
        "a=100\n",
        "b=100\n",
        "## 95% Bayesian credible interval\n",
        "Bayesian_CI = qgamma(c(0.025,0.5,0.975),shape = t+a,rate=n+b)\n",
        "cat('Bayesian 95% CI = ', Bayesian_CI,'\\n')\n"
      ],
      "execution_count": null,
      "outputs": [
        {
          "output_type": "stream",
          "text": [
            "Bayesian 95% CI =  1.304155 1.407639 1.516457 \n"
          ],
          "name": "stdout"
        }
      ]
    },
    {
      "cell_type": "code",
      "metadata": {
        "colab": {
          "base_uri": "https://localhost:8080/"
        },
        "id": "4G1wwoHV2n06",
        "outputId": "8869b835-c223-4afe-bb25-c60507a6b62c"
      },
      "source": [
        "a=1000\n",
        "b=1000\n",
        "\n",
        "## 95% Posterior Bayesian credible interval\n",
        "Bayesian_CI = qgamma(c(0.025,0.5,0.975),shape = a,rate=b)\n",
        "cat('Prior Bayesian 95% CI = ', Bayesian_CI,'\\n')\n",
        "\n",
        "\n",
        "## 95% Posterior Bayesian credible interval\n",
        "Bayesian_CI = qgamma(c(0.025,0.5,0.975),shape = t+a,rate=n+b)\n",
        "cat('Posterior Bayesian 95% CI = ', Bayesian_CI,'\\n')\n"
      ],
      "execution_count": null,
      "outputs": [
        {
          "output_type": "stream",
          "text": [
            "Prior Bayesian 95% CI =  0.938973 0.9996667 1.062921 \n",
            "Posterior Bayesian 95% CI =  1.086336 1.141787 1.199095 \n"
          ],
          "name": "stdout"
        }
      ]
    },
    {
      "cell_type": "markdown",
      "metadata": {
        "id": "8T2VDaQqbYJZ"
      },
      "source": [
        "$x \\sim f(x)$ $y=g(x)$ $x=g'(y)$ $J(x,y)=\\frac{\\partial x}{\\partial y}$\n",
        "\n",
        "$\n",
        "h(y)=f(g'(y))\\frac{\\partial x}{\\partial y}\n",
        "$\n",
        "\n",
        "$\n",
        "p(\\theta)\\propto 1 ~~if ~~\\theta \\in \\mathbb{R}\n",
        "$\n",
        "\n",
        "$\\lambda \\in R^+$ \n",
        "\n",
        "$\\theta = \\log(\\lambda)$ $J =\\frac{1}{\\lambda}$\n",
        "\n",
        "$p(\\lambda) \\propto \\frac{1}{\\lambda}$\n",
        "\n",
        "$Gamma(a=1,b=0)$\n",
        "\n",
        "$Gamma(a+t,b+n)$"
      ]
    },
    {
      "cell_type": "markdown",
      "metadata": {
        "id": "JoaZRwVoUzo9"
      },
      "source": [
        "One approach to avoid this criticism is **Jeffrey's Prior**\n",
        "\n",
        "* The Jeffreys prior for the rate parameter $\\lambda \\geq 0$ is\n",
        "\\begin{eqnarray*}\n",
        "p(\\lambda) &\\propto& \\frac{1}{\\sqrt{\\lambda}}\\\\\n",
        "&\\equiv& Gamma(a=\\frac{1}{2},b=0)\n",
        "\\end{eqnarray*}\n",
        "\n",
        "* So **Jeffrey's Prior** for Poisson is an improper prior.\n",
        "\n",
        "* What about posterior distrinution under Jeffrey's prior?\n",
        "\\begin{eqnarray*}\n",
        "p(\\lambda|t,n) &\\propto&  Gamma(a+t=\\frac{1}{2}+t~,~b+n=0+n)\n",
        "\\end{eqnarray*}\n",
        "\n",
        "So if $n>0$, which is trivially true, the __posterior distribution is proper__.\n"
      ]
    },
    {
      "cell_type": "code",
      "metadata": {
        "id": "dMDfLC1eXEwJ",
        "colab": {
          "base_uri": "https://localhost:8080/"
        },
        "outputId": "399b91f1-2f08-4731-f3d8-a7e4fd9dc886"
      },
      "source": [
        "a=0.5\n",
        "b=0\n",
        "\n",
        "## Posterior mean\n",
        "cat('posterior mean = ',(a+t)/(b+n),'\\n')\n",
        "\n",
        "## 95% Bayesian credible interval\n",
        "Bayesian_CI = qgamma(c(0.025,0.5,0.975),shape = t+a,rate=n+b)\n",
        "cat('Bayesian 95% CI = ', Bayesian_CI,'\\n')"
      ],
      "execution_count": null,
      "outputs": [
        {
          "output_type": "stream",
          "text": [
            "posterior mean =  1.517105 \n",
            "Bayesian 95% CI =  1.395775 1.516228 1.64342 \n"
          ],
          "name": "stdout"
        }
      ]
    },
    {
      "cell_type": "markdown",
      "metadata": {
        "id": "Od7c4UfqVZhQ"
      },
      "source": [
        "$$\n",
        "\\mathbb{P}(a\\leq \\lambda \\leq b | D) =0.95\n",
        "$$"
      ]
    },
    {
      "cell_type": "markdown",
      "metadata": {
        "id": "mJ3DTv1aauYj"
      },
      "source": [
        "**Alternate approach**: \n",
        "\n",
        "-  Choose Cauchy distribution for location parameter  (Berger, 1985)\n",
        "-  Choose Half-Cauchy distribution for scale parameter (Gelman, 2006)\n",
        "\n",
        "__Why__?\n",
        "\n",
        "* Mean, variance and other higher order moments does not exists for neither Cauchy nor Half-Cauchy distribution\n",
        "\n",
        "* The pdf of Half-cauchy distribution:\n",
        "\\begin{eqnarray*}\n",
        "p(\\theta)=\\frac{2}{\\pi(1+\\theta^2)}~~~\\theta>0\n",
        "\\end{eqnarray*}\n"
      ]
    },
    {
      "cell_type": "code",
      "metadata": {
        "id": "okvpf0eKhaoD"
      },
      "source": [
        "dHalfCauchy= function(theta,log=FALSE){\n",
        "  if(log==FALSE){\n",
        "    return(2/(pi*(1+theta^2)))\n",
        "  }else{\n",
        "    return(log(2)-log(pi)-log(1+theta^2))\n",
        "  }\n",
        "}\n",
        "\n",
        "## Test\n",
        "# dHalfCauchy(theta=1,log=FALSE)\n",
        "# dHalfCauchy(theta=1,log=TRUE)\n",
        "# log(dHalfCauchy(theta=1,log=FALSE))"
      ],
      "execution_count": null,
      "outputs": []
    },
    {
      "cell_type": "markdown",
      "metadata": {
        "id": "z6GhtaIJjFre"
      },
      "source": [
        "As $T\\sim Poisson(n\\lambda)$ and $\\lambda\\sim \\text{Half-Cauchy}(0,1)$ the posterior will be proper, i.e.,\n",
        "\n",
        "\\begin{eqnarray*}\n",
        "p(\\lambda | t,n) &\\propto& l(\\lambda|t,n)p(\\lambda)\\\\\n",
        "&\\propto& e^{-n\\lambda}{n\\lambda}^{t}\\times \\frac{2}{\\pi(1+\\lambda^2)}\n",
        "\\end{eqnarray*}\n",
        "\n",
        "We will try to estimate the **posterior mode**\n",
        "$$\n",
        "\\max_{\\lambda} p(\\lambda | t,n)\n",
        "$$"
      ]
    },
    {
      "cell_type": "code",
      "metadata": {
        "id": "bgGZR_5oiY3Q",
        "colab": {
          "base_uri": "https://localhost:8080/",
          "height": 34
        },
        "outputId": "960a14b8-fe83-443d-d725-895d353e567b"
      },
      "source": [
        "logLike = function(lambda,t,n){\n",
        "  l = dpois(t,lambda = n*lambda,log=TRUE)\n",
        "  return(l)\n",
        "}\n",
        "\n",
        "logPosterior = function(lambda,t,n){\n",
        "  lpost = logLike(lambda=lambda,t=t,n=n)+dHalfCauchy(theta=lambda,log=TRUE)\n",
        "  return(lpost)\n",
        "}\n",
        "\n",
        "lambda.init = 1\n",
        "logPosterior(lambda=lambda.init,t=t,n=n)"
      ],
      "execution_count": null,
      "outputs": [
        {
          "output_type": "display_data",
          "data": {
            "text/plain": [
              "[1] -48.82124"
            ],
            "text/latex": "-48.8212379191782",
            "text/markdown": "-48.8212379191782",
            "text/html": [
              "-48.8212379191782"
            ]
          },
          "metadata": {
            "tags": []
          }
        }
      ]
    },
    {
      "cell_type": "markdown",
      "metadata": {
        "id": "eWbdB6w-mMpS"
      },
      "source": [
        "one-dimensional optimisation"
      ]
    },
    {
      "cell_type": "code",
      "metadata": {
        "id": "NloJxi4Mlsxt",
        "colab": {
          "base_uri": "https://localhost:8080/",
          "height": 112
        },
        "outputId": "2b4bffb5-2b04-4e56-b287-826a0484bf2d"
      },
      "source": [
        "optimize(f=logPosterior,lower = 0,upper=10,t=t,n=n,maximum=TRUE)"
      ],
      "execution_count": null,
      "outputs": [
        {
          "output_type": "display_data",
          "data": {
            "text/plain": [
              "$maximum\n",
              "[1] 1.512117\n",
              "\n",
              "$objective\n",
              "[1] -5.740236\n"
            ],
            "text/latex": "\\begin{description}\n\\item[\\$maximum] 1.51211696386756\n\\item[\\$objective] -5.74023555223261\n\\end{description}\n",
            "text/markdown": "$maximum\n:   1.51211696386756\n$objective\n:   -5.74023555223261\n\n\n",
            "text/html": [
              "<dl>\n",
              "\t<dt>$maximum</dt>\n",
              "\t\t<dd>1.51211696386756</dd>\n",
              "\t<dt>$objective</dt>\n",
              "\t\t<dd>-5.74023555223261</dd>\n",
              "</dl>\n"
            ]
          },
          "metadata": {
            "tags": []
          }
        }
      ]
    },
    {
      "cell_type": "markdown",
      "metadata": {
        "id": "dWBOSqAHmaaE"
      },
      "source": [
        "**Question:** How to estimate posterior mean? Bayesian interval?"
      ]
    },
    {
      "cell_type": "markdown",
      "metadata": {
        "id": "zvcwAAPxmtZU"
      },
      "source": [
        "**Question:**  What is posterior mean?\n",
        "\n",
        "$$\n",
        "\\mathbb{E}(\\lambda|D)=\\int \\lambda p(\\lambda|D)d\\lambda\n",
        "$$\n",
        "\n",
        "We don't know $p(\\lambda|D)$ fully. We know upto its kernel."
      ]
    },
    {
      "cell_type": "markdown",
      "metadata": {
        "id": "MhxZQIv9nRg-"
      },
      "source": [
        "**Question:** What is Bayesian interval?\n",
        "\n",
        "$$\n",
        "\\mathbb{P}(a \\leq \\lambda \\leq b | D) = 0.95\n",
        "$$\n",
        "\n",
        "$$\n",
        "\\int_a^b p(\\lambda |D) d\\lambda  = 0.95\n",
        "$$"
      ]
    },
    {
      "cell_type": "markdown",
      "metadata": {
        "id": "_EkCbflSoBYR"
      },
      "source": [
        "* So finding posterior mode is an optimisation problem\n",
        "\n",
        "* Estimation of posterior mean, posterior variance or 95% CI is an integration problem"
      ]
    },
    {
      "cell_type": "markdown",
      "metadata": {
        "id": "bwTYo9AggAu8"
      },
      "source": [
        "**Reference**\n",
        "\n",
        "1.   A. Gelman (2006), \"Prior distributions for variance parameters in hierarchical models\" *Bayesian Analysis*, Vol. 1, N. 3, pp. 515–533\n",
        "http://www.stat.columbia.edu/~gelman/research/published/taumain.pdf\n",
        "\n",
        "2.   N. G. Polson and J. G. Scott (2012), \"On the Half-Cauchy Prior for a Global Scale Parameter\", *Bayesian Analysis*, Vol. 7, No. 4, pp. 887-902 https://projecteuclid.org/euclid.ba/1354024466\n",
        "\n"
      ]
    },
    {
      "cell_type": "code",
      "metadata": {
        "colab": {
          "base_uri": "https://localhost:8080/",
          "height": 470
        },
        "id": "czd485Ut5JxE",
        "outputId": "2dd7246f-a6ab-4d63-a71d-05ceae79799f"
      },
      "source": [
        "n1 = 300\n",
        "length(data$FTHG[1:n1])\n",
        "t = sum(data$FTHG[1:n1])\n",
        "t\n",
        "## lambda ~ Gamma(a+t,b+n)\n",
        "a = 1\n",
        "b = 1\n",
        "lambda = seq(1,2,length.out = 100)\n",
        "plot(lambda,dgamma(lambda,a + t, b+n1),lwd=2,type='l')"
      ],
      "execution_count": null,
      "outputs": [
        {
          "output_type": "display_data",
          "data": {
            "text/plain": [
              "[1] 300"
            ],
            "text/latex": "300",
            "text/markdown": "300",
            "text/html": [
              "300"
            ]
          },
          "metadata": {
            "tags": []
          }
        },
        {
          "output_type": "display_data",
          "data": {
            "text/plain": [
              "[1] 450"
            ],
            "text/latex": "450",
            "text/markdown": "450",
            "text/html": [
              "450"
            ]
          },
          "metadata": {
            "tags": []
          }
        },
        {
          "output_type": "display_data",
          "data": {
            "image/png": "[encoded data removed]",
            "text/plain": [
              "plot without title"
            ]
          },
          "metadata": {
            "tags": [],
            "image/png": {
              "width": 420,
              "height": 420
            }
          }
        }
      ]
    },
    {
      "cell_type": "code",
      "metadata": {
        "colab": {
          "base_uri": "https://localhost:8080/",
          "height": 101
        },
        "id": "LQlMlKiI7Saj",
        "outputId": "93057e1d-3865-4431-af68-048a0f3ed651"
      },
      "source": [
        "lamda_star = rgamma(1000,a + t, b+n1)\n",
        "\n",
        "shapiro.test(lamda_star)"
      ],
      "execution_count": null,
      "outputs": [
        {
          "output_type": "display_data",
          "data": {
            "text/plain": [
              "\n",
              "\tShapiro-Wilk normality test\n",
              "\n",
              "data:  lamda_star\n",
              "W = 0.99788, p-value = 0.2356\n"
            ]
          },
          "metadata": {
            "tags": []
          }
        }
      ]
    }
  ]
}