{
  "nbformat": 4,
  "nbformat_minor": 0,
  "metadata": {
    "kernelspec": {
      "display_name": "R",
      "language": "R",
      "name": "ir"
    },
    "language_info": {
      "codemirror_mode": "r",
      "file_extension": ".r",
      "mimetype": "text/x-r-source",
      "name": "R",
      "pygments_lexer": "r",
      "version": "3.3.1"
    },
    "colab": {
      "name": "Bayesian Monte Carlo Simulation with R.ipynb",
      "provenance": [],
      "collapsed_sections": []
    }
  },
  "cells": [
    {
      "cell_type": "markdown",
      "metadata": {
        "id": "tScs0JSjJJoS"
      },
      "source": [
        "# **Bayesian Inference via Monte Carlo Integration with $\\texttt{R}$**\n",
        "\n",
        "By **Sourish Das**\n",
        "\n",
        "**Chennai Mathematical Institute**"
      ]
    },
    {
      "cell_type": "markdown",
      "metadata": {
        "id": "pT7yQBgzpM9g"
      },
      "source": [
        "### **Table of Contents**\n",
        "1. Introduction and Motivation\n",
        "\n",
        "2. Inverse Transform Method\n",
        "\n",
        "3. Acceptance Rejection Method\n",
        "\n",
        "4. Importance Sampling Method\n",
        "\n",
        "5. Markov Chain Monte Carlo Method\n",
        "  - Gibbs Sampler\n",
        "  - Metropolis-Hastings\n",
        "\n",
        "6. MCMC Diagnostics\n",
        "\n",
        "### **Introduction**\n",
        "    \n",
        "* Suppose $Y \\sim p(y|\\theta)$ and $p(\\theta)$ is the prior distribution over $\\theta$\n",
        "\n",
        "* Our objective is to make statistical inference about $\\theta$\n",
        "\n",
        "* The **posterior distribution** is:\n",
        "$$\n",
        "p(\\theta|y)=\\frac{p(y|\\theta)p(\\theta)}{\\int_{\\Theta}p(y|\\theta)p(\\theta)d\\theta}\n",
        "$$\n",
        "\n",
        "* **Posterior mean**: *integration problem*\n",
        "$$\n",
        "\\mathbb{E}(\\theta|y)=\\int_{\\Theta}\\theta p(\\theta|y)d\\theta =g(y)\n",
        "$$\n",
        "\n",
        "* **Posterior median**: *integration problem*\n",
        "$$\n",
        "\\int_{-\\infty}^{\\mu_0} p(\\theta|y)d\\theta =\\frac{1}{2},\n",
        "$$\n",
        "\n",
        "* **Posterior Mode**: *optimization problem*\n",
        "\\begin{eqnarray*}\n",
        "\\hat{\\theta}&=&\\text{argmax}_{\\Theta}~p(\\theta|y)\\\\\n",
        "&=&\\text{argmax}_{\\Theta}p(y|\\theta)p(\\theta)\n",
        "\\end{eqnarray*}\n",
        "\n",
        "* **Posterior predictive distribution**:\n",
        "$$\n",
        "p(\\tilde{y}|y)=\\int_{\\Theta}p(\\tilde{y}|\\theta,y)p(\\theta|y)d\\theta\n",
        "$$\n"
      ]
    },
    {
      "cell_type": "markdown",
      "metadata": {
        "id": "O_qHWWNIk7kQ"
      },
      "source": [
        "- In order to get the posterior mean we have to solve this integration\n",
        "- Analytical solution does not exists for most of the sophisticated models\n",
        "- So we have to resort to simulation technique to solve this integration problem.\n",
        "- Typically it is known as **Monte Carlo Integration** method\n"
      ]
    },
    {
      "cell_type": "markdown",
      "metadata": {
        "id": "75qt3gLsl0S0"
      },
      "source": [
        "**Monte Carlo methods** rely on\n",
        "  - The possibility of generation of endless flow of random variables\n",
        "  - For well-known or new distributions.\n",
        "  - Such a simulation is based on the generation of uniform random variables on the interval $(0, 1)$.\n",
        "  - We are not concerned with the details of producing uniform random numbers.\n",
        "  - We assume the existence of such a sequence"
      ]
    },
    {
      "cell_type": "markdown",
      "metadata": {
        "id": "VtnNyskXmJhx"
      },
      "source": [
        "As we want to estimate the **posterior mean**:\n",
        "$$\n",
        "\\mathbb{E}(\\theta|y)=\\int_{\\Theta}\\theta p(\\theta|y)d\\theta =g(y)\n",
        "$$\n",
        "-  we can do so by simulating random samples from $p(\\theta|y)$\n",
        "-  Suppose $(\\theta^1,...,\\theta^N)$ are random samples from $p(\\theta|y)$, then we can approximate $g(y)$ by\n",
        "$$\n",
        "\\hat{g}(y)=\\frac{1}{N}\\sum_{s=1}^N\\theta^s\n",
        "$$\n",
        "-  If we can ensure simple random sample then Laws of Large Number  ensures\n",
        "$$\n",
        "\\hat{g}(y)=\\frac{1}{N}\\sum_{s=1}^N\\theta^s \\rightarrow g(y)=\\mathbb{E}(\\theta|y)\n",
        "$$\n",
        "as $N \\rightarrow \\infty$, where $N$ is the simulation size.\n"
      ]
    },
    {
      "cell_type": "markdown",
      "metadata": {
        "id": "4kSSAigXma0o"
      },
      "source": [
        "**Convergence**:\n",
        "$$\n",
        "\\bar{h}=\\frac{1}{n}\\sum_{i=1}^n h(\\theta^i)\\stackrel{a.s.}{\\longrightarrow} \\mathbb{E}(h(\\theta)|y)=\\int_{\\Theta}h(\\theta)p(\\theta|y)d\\theta\n",
        "$$\n",
        "- **Central Limit Theorem**: \n",
        "$$\n",
        "\\frac{\\bar{h}-\\mathbb{E}(\\theta|y)}{\\sqrt{\\sigma_n^2}}\\stackrel{L}{\\longrightarrow} N(0,1)\n",
        "$$\n",
        "where $\\sigma_n^2=\\frac{1}{n}\\sum_{i=1}^n[\\bar{h}-E(\\theta|y)]^2$, \n",
        "such that $\\int_{\\Theta}h(\\theta)^2p(\\theta|y)d\\theta< \\infty$\n"
      ]
    },
    {
      "cell_type": "markdown",
      "metadata": {
        "id": "ZVrupdGOmsE9"
      },
      "source": [
        "The advantage of CLT is we can evaluate the Monte Carlo error\n",
        "- It assumes $\\sigma_n^2$ is the proper estimate of the variance of $\\bar{h}_n$\n",
        "- If $\\sigma_n^2$ does not converge, converges too slowly, a CLT may not apply. In such cases we will not be able to estimate the Monte Carlo error."
      ]
    },
    {
      "cell_type": "markdown",
      "metadata": {
        "id": "Cz5bI8rfmz49"
      },
      "source": [
        "**Using the $\\texttt{R}$ Generator**\n",
        "\n",
        "- $\\texttt{R}$ has a large number of functions that will generate random samples from standard distributions.\n",
        "\n",
        "- If built-in function in $\\texttt{R}$ is available then we can use it directly.\n",
        "\n",
        "- However, if the built-in functions are not available and the posterior distribution is known upto its kernel then we have to use genric methods to draw samples from such distributions."
      ]
    },
    {
      "cell_type": "markdown",
      "metadata": {
        "id": "M0Uh8PM_nQQx"
      },
      "source": [
        "**The Inverse Transform**\n",
        "\n",
        "- The probability integral transform allows us to transform a uniform into any random variable.\n",
        "\n",
        "- If $X$ has a density $f$ and cdf $F$, then we have the relation \n",
        "$$\n",
        "F(x)=\\int_{-\\infty}^x f(u)du\n",
        "$$\n",
        "we know $F(x) \\sim Unif(0,1)$ \n",
        "\n",
        "- so we set $U=F(x)$ and solve for $x$\n",
        "\n",
        "- If $X\\sim Exp(1)$ then $F(x)=1-e^{-x}$\n",
        "\n",
        "- solving for $x$ in $u=1-e^{-x}$ gives $x=-\\log(1-u)$\n"
      ]
    },
    {
      "cell_type": "markdown",
      "metadata": {
        "id": "kqPzsKcpRy2q"
      },
      "source": [
        "**Generating Exponentially Distributed Random Samples**"
      ]
    },
    {
      "cell_type": "code",
      "metadata": {
        "id": "6F5Meds-pM9m",
        "colab": {
          "base_uri": "https://localhost:8080/",
          "height": 538
        },
        "outputId": "78ff452d-434a-4244-ea47-b5f8fc9aff97"
      },
      "source": [
        "# Number of random samples\n",
        "N=1000\n",
        "# Simulate from uniforms\n",
        "u=runif(N)\n",
        "# transforms of uniforms\n",
        "x= -log(1-u)\n",
        "# exponential in R\n",
        "y=rexp(N)\n",
        "par(mfrow=c(1,2)) # plot parameters\n",
        "hist(x,freq=F,main=\"Exp from Uniforms\",col=\"orange\")\n",
        "hist(y,freq=F,main=\"Exp from Built-in R\",col=\"orange\")\n",
        "ks.test(x,y)"
      ],
      "execution_count": null,
      "outputs": [
        {
          "output_type": "display_data",
          "data": {
            "text/plain": [
              "\n",
              "\tTwo-sample Kolmogorov-Smirnov test\n",
              "\n",
              "data:  x and y\n",
              "D = 0.047, p-value = 0.2193\n",
              "alternative hypothesis: two-sided\n"
            ]
          },
          "metadata": {
            "tags": []
          }
        },
        {
          "output_type": "display_data",
          "data": {
            "image/png": "[encoded data removed]",
            "text/plain": [
              "Plot with title “Exp from Built-in R”"
            ]
          },
          "metadata": {
            "tags": [],
            "image/png": {
              "width": 420,
              "height": 420
            }
          }
        }
      ]
    },
    {
      "cell_type": "markdown",
      "metadata": {
        "id": "Gra5LFqin4ax"
      },
      "source": [
        "**The Inverse Transform from Uniforms**\n",
        "\n",
        "This method is useful for other probability distributions ; ones obtained as a transformation of uniform random variables\n",
        "\n",
        "- **Logistic cdf**: $$F(x)=\\frac{1}{1+\\exp\\left(-\\frac{x-\\mu}{\\lambda}\\right)}$$\n",
        "\n",
        "- **Cauchy cdf**: $$F(x)=\\frac{1}{2}+\\frac{1}{\\pi}arctan((x-\\mu)/\\sigma)$$"
      ]
    },
    {
      "cell_type": "markdown",
      "metadata": {
        "id": "6wYlZphyoI79"
      },
      "source": [
        "**General Transform Method**\n",
        "\n",
        "If $X_i \\stackrel{iid}{\\sim} Exp(1)$; three standard distribution can be derived as\n",
        "\n",
        "- $Y= 2\\sum_{i=1}^n X_i \\sim \\chi_{2n}^2$\n",
        "\n",
        "- $Y= \\beta \\sum_{i=1}^n X_i \\sim Gamma(n,\\beta)$\n",
        "\n",
        "- $Y= \\frac{\\sum_{i=1}^{n_1} X_i}{\\sum_{i=1}^{n_1+n_2} X_i}  \\sim Beta(n_1,n_2)$\n",
        "\n",
        "where $n \\in \\mathcal{N}=\\{1,2,...\\}$\n",
        "\n",
        "- These transformations are quite simple and we will use them quite often\n",
        "\n",
        "- However, there is a limit to their usefullness. Only when closed form CDF is available the method is available.\n",
        "\n",
        "- The method will not work for Gaussian distribution as the CDF is not in closed form.\n"
      ]
    },
    {
      "cell_type": "markdown",
      "metadata": {
        "id": "4exa9zXPokzv"
      },
      "source": [
        "**Box-Muller transform**\n",
        "\n",
        "- Box-Muller transform to generate from Normal distribution\n",
        "\n",
        "- If $U_1$ and $U_2$ are iid from $Unif(0,1)$\n",
        "\n",
        "- The variable $X_1$ and $X_2$ \n",
        "$$\n",
        "X_1=\\sqrt{-2\\log(U_1)}\\cos(2\\pi U_2),~~~\\text{and}~~~ X_2=\\sqrt{-2\\log(U_1)}\\sin(2\\pi U_2)\n",
        "$$\n",
        "are iid $N(0,1)$ by virtue of a change of variable argument.\n",
        "\n",
        "- The Box-Muller algorithm is exact, not a crude CLT-based approximation\n",
        "\n",
        "- Note that this is not the generator implemented in R. It uses the probability inverse transform with a very accurate representation of the Gaussian cdf"
      ]
    },
    {
      "cell_type": "code",
      "metadata": {
        "colab": {
          "base_uri": "https://localhost:8080/",
          "height": 118
        },
        "id": "JQngjLiODC2N",
        "outputId": "2554ae39-0a7f-4a07-ca6f-6c28db9fc15c"
      },
      "source": [
        "u1 = runif(N)\n",
        "u2 = runif(N)\n",
        "# Box-Muller transformation\n",
        "x1 = sqrt(-2*log(u1))*cos(2*pi*u2)\n",
        "\n",
        "# built-in function in R\n",
        "y = rnorm(N)\n",
        "\n",
        "ks.test(x1,y)"
      ],
      "execution_count": null,
      "outputs": [
        {
          "output_type": "display_data",
          "data": {
            "text/plain": [
              "\n",
              "\tTwo-sample Kolmogorov-Smirnov test\n",
              "\n",
              "data:  x1 and y\n",
              "D = 0.056, p-value = 0.08691\n",
              "alternative hypothesis: two-sided\n"
            ]
          },
          "metadata": {
            "tags": []
          }
        }
      ]
    },
    {
      "cell_type": "markdown",
      "metadata": {
        "id": "dPFi1I1OB6Mf"
      },
      "source": [
        "### Accept-Reject Method\n",
        "\n",
        "- There are many distributions where transform methods fail\n",
        "\n",
        "- For these cases, we must turn to indirect methods\n",
        "\n",
        "- We generate a candidate random variable\n",
        "\n",
        "- Only accept it subject to passing a test\n",
        "\n",
        "- This class of 'Accept-Reject' methods is extremely powerful. It will allow us to simulate from virtually any distribution.\n",
        "\n",
        "**Accept-Reject Methods**:\n",
        "\n",
        "-  Only require the functional form of the density $f$ of interest\n",
        "\n",
        "- $f$: **target density**, from where we want to simulate; but we don't know how !!!\n",
        "\n",
        "- $g$: **candidate density**; where it is simpler to simulate random variables from $g$\n",
        "\n",
        "- The only constraints we impose on this candidate density $g$\n",
        "\n",
        "- $f$ and $g$ have compatible supports (i.e., $g(x) > 0$ when $f(x) > 0$).\n",
        "\n",
        "- $X \\sim f$ can be simulated as follows:\n",
        "\n",
        "- Generate $Y \\sim g$ and independently generate $U \\sim unif(0,1)$\n",
        "\n",
        "- If $U\\leq \\frac{1}{M}\\frac{f(Y)}{g(Y)}$ set $X=Y$\n",
        "\n",
        "- If inequality is not satisfied then discard $Y$ and $U$ and start again.\n",
        "\n",
        "- Note $M=\\sup_x \\frac{f(x)}{g(x)}$\n",
        "\n",
        "- $\\mathbb{P}(\\text{Accept})=\\frac{1}{M}$ and expected waiting time $M$.\n",
        "\n"
      ]
    },
    {
      "cell_type": "markdown",
      "metadata": {
        "id": "1wmrO8HBEXBV"
      },
      "source": [
        "### **Why does this method work?**\n",
        "\n",
        "A straightforward probability calculation shows\n",
        "$$\n",
        "P(Y \\leq x| \\text{Accept})=P\\left(Y \\leq x| U \\leq \\frac{f(Y)}{Mg(Y)}\\right)= P(X \\leq x),\n",
        "$$\n",
        "where $Y \\sim g$ and $X \\sim f$.\n",
        "\n",
        "- Simulating from $g$, the output of this algorithm is exactly distributed from $f$.\n",
        "\n",
        "- The **Accept-Reject** method is applicable in any dimension.\n",
        "\n",
        "- As long as $g$ is a density over the same space as $f$.\n",
        "\n",
        "- Only need to know $f/g$ upto a constant\n",
        "\n",
        "- Only need an upper bound on $M$\n",
        "\n",
        "**Accept-Rejection Algorithm for Beta Distribution**\n",
        "\n",
        "- Generate $X \\sim Beta(a,b)$\n",
        "\n",
        "- No direct method available if $a$ and $b$ are not integers\n",
        "\n",
        "- Generate for $a=2.3$ and $b=7.9$\n",
        "\n",
        "- We can generate if $a$ and $b$ is integer\n",
        "\n",
        "1. **Candidate distribution** $Unif(0,1)$  \n",
        "2. **Target distribution** $Beta(2.3,7.9)$\n"
      ]
    },
    {
      "cell_type": "markdown",
      "metadata": {
        "id": "k7PEP3FLgriy"
      },
      "source": [
        "Ref : https://bookdown.org/rdpeng/advstatcomp/rejection-sampling.html"
      ]
    },
    {
      "cell_type": "code",
      "metadata": {
        "colab": {
          "base_uri": "https://localhost:8080/",
          "height": 470
        },
        "id": "LfeWAUeWFLDl",
        "outputId": "f01af813-0cef-40a8-f299-5921ebf21a4a"
      },
      "source": [
        "N=5000\n",
        "sample.x = runif(N,0,1)\n",
        "accept = c()\n",
        "\n",
        "for(i in 1:length(sample.x)){\n",
        " U = runif(1, 0, 1)\n",
        " if(dunif(sample.x[i], 0, 1)*4*U <= dbeta(sample.x[i], 2.3, 7.9)) {\n",
        "   accept[i] = 'Yes'\n",
        " }\n",
        " else if(dunif(sample.x[i],0,1)*4*U > dbeta(sample.x[i], 2.3, 7.9)) {\n",
        "  accept[i] = 'No'\n",
        " }\n",
        "}\n",
        "\n",
        "T = data.frame(sample.x, accept = factor(accept, levels= c('Yes','No')))\n",
        "x = sort(T[,1][T$accept=='Yes'])\n",
        "par(mfrow=c(1,2))\n",
        "hist(x, breaks = seq(0,1,0.01), freq = FALSE, main = 'Histogram of X', xlab = 'X')\n",
        "lines(x, dbeta(x,2.3,7.9),col=\"red\",lwd=3)\n",
        "hist(sample.x,main= 'Histogram of candidate density',freq=FALSE)\n",
        "\n",
        "cat(\"Acceptance Rate :\",\"\\n\")\n",
        "(length(x)/length(sample.x))*100\n"
      ],
      "execution_count": null,
      "outputs": [
        {
          "output_type": "stream",
          "text": [
            "Acceptance Rate : \n"
          ],
          "name": "stdout"
        },
        {
          "output_type": "display_data",
          "data": {
            "text/plain": [
              "[1] 24.04"
            ],
            "text/latex": "24.04",
            "text/markdown": "24.04",
            "text/html": [
              "24.04"
            ]
          },
          "metadata": {
            "tags": []
          }
        },
        {
          "output_type": "display_data",
          "data": {
            "image/png": "[encoded data removed]",
            "text/plain": [
              "Plot with title “Histogram of candidate density”"
            ]
          },
          "metadata": {
            "tags": [],
            "image/png": {
              "width": 420,
              "height": 420
            }
          }
        }
      ]
    },
    {
      "cell_type": "markdown",
      "metadata": {
        "id": "mnhcPZ5OFWnz"
      },
      "source": [
        "1. **Candidate distribution** $Beta(1,5)$ \n",
        "2. **Target distribution** $Beta(2.3,7.9)$"
      ]
    },
    {
      "cell_type": "code",
      "metadata": {
        "colab": {
          "base_uri": "https://localhost:8080/",
          "height": 470
        },
        "id": "g_SGoAOwFgre",
        "outputId": "4e54b645-09c9-44cb-a018-58f7b3eebbed"
      },
      "source": [
        "N = 5000\n",
        "sample.x = rbeta(N,1,5)\n",
        "accept = c()\n",
        "\n",
        "for(i in 1:length(sample.x)){\n",
        " U = runif(1, 0, 1)\n",
        " if(dbeta(sample.x[i], 1, 5)*3*U <= dbeta(sample.x[i], 2.3, 7.9)) {\n",
        "   accept[i] = 'Yes'\n",
        " }\n",
        " else if(dbeta(sample.x[i],1,5)*3*U > dbeta(sample.x[i], 2.3, 7.9)) {\n",
        "  accept[i] = 'No'\n",
        " }\n",
        "}\n",
        "\n",
        "T = data.frame(sample.x, accept = factor(accept, levels= c('Yes','No')))\n",
        "x = sort(T[,1][T$accept=='Yes'])\n",
        "par(mfrow=c(1,2))\n",
        "hist(x, breaks = seq(0,1,0.01), freq = FALSE, main = 'Histogram of X', xlab = 'X')\n",
        "lines(x, dbeta(x,2.3,7.9),col=\"red\",lwd=2)\n",
        "hist(sample.x,main= 'Histogram of candidate density',freq=FALSE)\n",
        "\n",
        "cat(\"Acceptance Rate :\",\"\\n\")\n",
        "(length(x)/length(sample.x))*100\n"
      ],
      "execution_count": null,
      "outputs": [
        {
          "output_type": "stream",
          "text": [
            "Acceptance Rate : \n"
          ],
          "name": "stdout"
        },
        {
          "output_type": "display_data",
          "data": {
            "text/plain": [
              "[1] 33.22"
            ],
            "text/latex": "33.22",
            "text/markdown": "33.22",
            "text/html": [
              "33.22"
            ]
          },
          "metadata": {
            "tags": []
          }
        },
        {
          "output_type": "display_data",
          "data": {
            "image/png": "[encoded data removed]",
            "text/plain": [
              "Plot with title “Histogram of candidate density”"
            ]
          },
          "metadata": {
            "tags": [],
            "image/png": {
              "width": 420,
              "height": 420
            }
          }
        }
      ]
    },
    {
      "cell_type": "markdown",
      "metadata": {
        "id": "KHZGA03BFspx"
      },
      "source": [
        "1. Candidate distribution $Beta(2,7)$ \n",
        "2. Target distribution $Beta(2.3,7.9)$"
      ]
    },
    {
      "cell_type": "code",
      "metadata": {
        "colab": {
          "base_uri": "https://localhost:8080/",
          "height": 470
        },
        "id": "52x3jZMLFsNh",
        "outputId": "c02e2b01-4734-4f38-d4fe-b075b7a4f6c1"
      },
      "source": [
        "N = 5000\n",
        "sample.x = rbeta(N,2,7)\n",
        "accept = c()\n",
        "\n",
        "for(i in 1:length(sample.x)){\n",
        " U = runif(1, 0, 1)\n",
        " if(dbeta(sample.x[i], 2, 7)*3*U <= dbeta(sample.x[i], 2.3, 7.9)) {\n",
        "   accept[i] = 'Yes'\n",
        " }\n",
        " else if(dbeta(sample.x[i],2,7)*3*U > dbeta(sample.x[i], 2.3, 7.9)) {\n",
        "  accept[i] = 'No'\n",
        " }\n",
        "}\n",
        "\n",
        "T = data.frame(sample.x, accept = factor(accept, levels= c('Yes','No')))\n",
        "x = sort(T[,1][T$accept=='Yes'])\n",
        "par(mfrow=c(1,2))\n",
        "hist(x, breaks = seq(0,1,0.01), freq = FALSE, main = 'Histogram of X', xlab = 'X')\n",
        "lines(x, dbeta(x,2.3,7.9),col=\"red\")\n",
        "hist(sample.x,main= 'Histogram of candidate density',freq=FALSE)\n",
        "\n",
        "cat(\"Acceptance Rate :\",\"\\n\")\n",
        "(length(x)/length(sample.x))*100\n"
      ],
      "execution_count": null,
      "outputs": [
        {
          "output_type": "stream",
          "text": [
            "Acceptance Rate : \n"
          ],
          "name": "stdout"
        },
        {
          "output_type": "display_data",
          "data": {
            "text/plain": [
              "[1] 33.2"
            ],
            "text/latex": "33.2",
            "text/markdown": "33.2",
            "text/html": [
              "33.2"
            ]
          },
          "metadata": {
            "tags": []
          }
        },
        {
          "output_type": "display_data",
          "data": {
            "image/png": "[encoded data removed]",
            "text/plain": [
              "Plot with title “Histogram of candidate density”"
            ]
          },
          "metadata": {
            "tags": [],
            "image/png": {
              "width": 420,
              "height": 420
            }
          }
        }
      ]
    },
    {
      "cell_type": "markdown",
      "metadata": {
        "id": "dQYw9ftrSVei"
      },
      "source": [
        "## Importance Sampling\n",
        "\n",
        "Importance sampling is based on an alternative formulation of the SLLN\n",
        "\n",
        "- For notational convinience we assume $p(\\theta|y)=f(\\theta)$\n",
        "\n",
        "\\begin{eqnarray*}\n",
        "E_f(h(\\theta))&=&\\int_{\\Theta}h(\\theta)f(\\theta)d\\theta \\\\\n",
        "&=&\\int_{\\Theta}h(\\theta)\\frac{f(\\theta)}{g(\\theta)}g(\\theta)d\\theta \\\\ \n",
        "&=& E_g\\left[\\frac{h(\\theta)f(\\theta)}{g(\\theta)}\\right]\n",
        "\\end{eqnarray*}\n",
        "\n",
        "1. $f$ is the target density\n",
        "2. $g$ is the cadidate density\n",
        "\n",
        "So in '**Importance Sampling**' all you do is first you generate samples from candidate distribution $g$\n",
        "\n",
        "- Suppose $(\\theta^1,\\theta^2,...,\\theta^N)$ are the random samples generated from $g$\n",
        "\n",
        "- You estimates \n",
        "$$\n",
        "\\bar{h}=\\frac{1}{N}\\sum_{i=1}^N\\frac{f(\\theta^i)}{g(\\theta^i)}h(\\theta^i)\n",
        "$$\n",
        "and by virtue of SLLN we have\n",
        "$$\n",
        "\\bar{h}=\\frac{1}{N}\\sum_{i=1}^N\\frac{f(\\theta^i)}{g(\\theta^i)}h(\\theta^i) \\longrightarrow E_g\\left[\\frac{h(\\theta)f(\\theta)}{g(\\theta)}\\right]=E_f(h(\\theta))\n",
        "$$\n",
        "\n",
        "The logic underlying importance sampling lies in a simple rearrangement of terms in the target integral and multiplying by 1:\n",
        "$$\\int h(\\theta)f(\\theta)d\\theta=\\int h(\\theta)\\frac{f(\\theta)}{g(\\theta)}g(\\theta)d\\theta=\\int h(\\theta)\\omega(\\theta)g(\\theta)d\\theta$$\n",
        "here $g()$ is another density whose support is same as $f()$.\n",
        "\n",
        "- $\\omega()$ is called importance function\n",
        "\n",
        "- a good importance function will be large when the integrand is large and small otherwise."
      ]
    },
    {
      "cell_type": "markdown",
      "metadata": {
        "id": "AV3ZuO4uUwdB"
      },
      "source": [
        "### **Objectives of Importance sampling**\n",
        "\n",
        "1. It reduces the variance of an integral approximation.\n",
        "\n",
        "2. Another objective of IS when you cannot generate from the density $p$\n",
        "\n",
        "3. A third objective of IS is to draw inference or generate sample when the target density is unnormalized \n",
        "\n",
        "### **Ex: Importance Sampling to improve integral approximation**\n",
        "\n",
        "Consider the function $h(x)=10\\exp(-2|x-5|)$. Suppose that we want to calculate $E(h(X))$, where $X\\sim  Uniform(0,10)$. That is we want to calculate\n",
        "$$\n",
        "\\int_0^{10} \\exp(-2|x-5|)dx.\n",
        "$$\n",
        "The true value for this integral is about 1. \n",
        "\n",
        "- The simple way to do this is to generate $x_i$ from the $Uniform(0,10)$ and look at the sample mean of $h(x_i)$\n",
        "\n",
        "- Notice this is equivalent to importance sampling with importance function $\\omega(x)=f(x)$, where $f(x)=\\frac{1}{10}I(0<x<10)$\n",
        "\n",
        "- Note that $h(x)=10\\exp(-2|x-5|)$ where $x \\sim Unif(0,10)$\n"
      ]
    },
    {
      "cell_type": "code",
      "metadata": {
        "colab": {
          "base_uri": "https://localhost:8080/"
        },
        "id": "9Xojd18iVwEs",
        "outputId": "23b40372-cf89-46f2-b4e7-63fc9a62fbbb"
      },
      "source": [
        "set.seed(7831)\n",
        "sim.size = 50000\n",
        "X = runif(sim.size,0,10)\n",
        "Y = 10*exp(-2*abs(X-5))\n",
        "cat('Estimate = ',round(mean(Y),3),'\\n')\n",
        "cat('Monte Carlo Error = ',round(var(Y),3),'\\n')\n",
        "\n"
      ],
      "execution_count": null,
      "outputs": [
        {
          "output_type": "stream",
          "text": [
            "Estimate =  0.999 \n",
            "Monte Carlo Error =  3.993 \n"
          ],
          "name": "stdout"
        }
      ]
    },
    {
      "cell_type": "code",
      "metadata": {
        "colab": {
          "base_uri": "https://localhost:8080/",
          "height": 437
        },
        "id": "3TWvBQv2WZn3",
        "outputId": "84e2d9b6-1444-4a4c-b48a-aeb390f83cff"
      },
      "source": [
        "x = seq(0,10,0.1)\n",
        "h = 10*exp(-2*abs(x-5))\n",
        "plot(x,h,ylab=\"h(x)\",type=\"l\",lwd=2)"
      ],
      "execution_count": null,
      "outputs": [
        {
          "output_type": "display_data",
          "data": {
            "image/png": "[encoded data removed]",
            "text/plain": [
              "plot without title"
            ]
          },
          "metadata": {
            "tags": [],
            "image/png": {
              "width": 420,
              "height": 420
            }
          }
        }
      ]
    },
    {
      "cell_type": "markdown",
      "metadata": {
        "id": "NSIqlES3WkbT"
      },
      "source": [
        "- Note that $h(x)=10\\exp(-2|x-5|)$ where $x \\sim Unif(0,10)$\n",
        "\n",
        "- The function $h()$ in this case is peaked at 5, and decays quickly elsewhere, therefore, under the uniform distribution, many of the points are contributing very little to this expectation.  \n",
        "\n",
        "- Something more like a gaussian function $ce^{-x^2}$ with a peak at 5 and small variance, say, 1, would provide greater precision\n",
        "\n",
        "- We can re-write the integral as\n",
        "$$\n",
        "\\int_{0}^{10}10\\exp(-2|x-5|)\\frac{1/10}{\\frac{1}{\\sqrt{2\\pi}}e^{-(x-5)^2/2}}\\frac{1}{\\sqrt{2\\pi}}e^{-(x-5)^2/2}dx\n",
        "$$\n",
        "\n",
        "- We want to estimate $E[h(X)\\omega(X)]$ where $X\\sim N(5,1)$\n",
        "\n",
        "- So in this case $f(x)\\sim Uniform(0,10)$, $g(x) \\sim N(5,1)$\n",
        "\n",
        "- The weight function is \n",
        "$$\n",
        "\\omega(x)=\\frac{\\sqrt{2\\pi}e^{(x-5)^2/2}}{10}\n",
        "$$"
      ]
    },
    {
      "cell_type": "code",
      "metadata": {
        "colab": {
          "base_uri": "https://localhost:8080/"
        },
        "id": "mMeOp3ahXDzg",
        "outputId": "8836f4f7-19c1-46ea-b029-e404b2252c8f"
      },
      "source": [
        "w = function(x)dunif(x,0,10)/dnorm(x,mean=5,sd=1)\n",
        "h = function(x)10*exp(-2*abs(x-5))\n",
        "set.seed(7831)\n",
        "sim.size = 50000\n",
        "x = rnorm(sim.size,mean=5,sd=1)\n",
        "y = h(x)*w(x)\n",
        "cat('Estimate = ',round(mean(y),3),'\\n')\n",
        "cat('Monte Carlo Error = ',round(var(y),3),'\\n')"
      ],
      "execution_count": null,
      "outputs": [
        {
          "output_type": "stream",
          "text": [
            "Estimate =  1 \n",
            "Monte Carlo Error =  0.361 \n"
          ],
          "name": "stdout"
        }
      ]
    },
    {
      "cell_type": "markdown",
      "metadata": {
        "id": "3NInU1vBXbS_"
      },
      "source": [
        "Note that here Monte Carlo variance is much smaller\n",
        "\n",
        "\n",
        "## **Importance Sampling - Application**\n",
        "\n",
        "Suppose daily return of a stock is defined as \n",
        "$$\n",
        "r_t=\\frac{P_t-P_{t-1}}{P_{t-1}}\\times 100\n",
        "$$\n",
        "where $P_t$ is the price of the stock on $t^{th}$ day. Suppose it is believed that return of the stock follows $r_t \\sim N(0,1)$.\n",
        "\n",
        "- **Objective**: We want to estimate $P(r_t<-5)$, i.e., we want to estimate the probability that the price of the stock will drop more than $5\\%$ in one day?\n",
        "\n",
        "As we are interested in $P(r_t<-5)$ where $r_t\\sim N(0,1)$, the probability in log-scales, i.e., $\\ln(P(r_t<-5))$\n"
      ]
    },
    {
      "cell_type": "code",
      "metadata": {
        "colab": {
          "base_uri": "https://localhost:8080/",
          "height": 34
        },
        "id": "bkQT8KPWX344",
        "outputId": "27347566-651d-4f16-8af7-c3ec2cb9332c"
      },
      "source": [
        "log(pnorm(-5,mean=0,sd=1))"
      ],
      "execution_count": null,
      "outputs": [
        {
          "output_type": "display_data",
          "data": {
            "text/plain": [
              "[1] -15.065"
            ],
            "text/latex": "-15.0649983939887",
            "text/markdown": "-15.0649983939887",
            "text/html": [
              "-15.0649983939887"
            ]
          },
          "metadata": {
            "tags": []
          }
        }
      ]
    },
    {
      "cell_type": "markdown",
      "metadata": {
        "id": "DCGr3VuXX7Tw"
      },
      "source": [
        "- Simulating $Z^{(i)}$ from $N(0,1)$ only produces a hit once in about 3 million iterations !\n",
        "\n",
        "- This is a very **rare event** for standard normal distribution\n",
        "\n",
        "- Estimates from Importance sampling"
      ]
    },
    {
      "cell_type": "code",
      "metadata": {
        "colab": {
          "base_uri": "https://localhost:8080/"
        },
        "id": "FwJ0cOb1YJ51",
        "outputId": "f9ff071b-6e9e-4c69-a90d-fcff356f19ee"
      },
      "source": [
        "set.seed(5472)\n",
        "a = -5\n",
        "x = rnorm(10000,mean=a,sd=2)\n",
        "y = rep(0,length(x))\n",
        "y[x<a] = 1\n",
        "#print(length(y))\n",
        "g = dnorm(x,mean=a,sd=2)\n",
        "f = dnorm(x)\n",
        "w = f/g\n",
        "print(log(mean(w*y)))\n"
      ],
      "execution_count": null,
      "outputs": [
        {
          "output_type": "stream",
          "text": [
            "[1] -15.0732\n"
          ],
          "name": "stdout"
        }
      ]
    },
    {
      "cell_type": "code",
      "metadata": {
        "colab": {
          "base_uri": "https://localhost:8080/",
          "height": 242
        },
        "id": "ePpgv4LgZw14",
        "outputId": "5f12d432-6add-4a2f-d0a8-0bfce5d9777a"
      },
      "source": [
        "result = data.frame(matrix(NA,nrow=5,ncol=3))\n",
        "colnames(result) = c('Target','Built-in R','Importance Sampling')\n",
        "result[1,1] = 'ln(P(r < -1)'\n",
        "result[1,2] = -1.841\n",
        "result[1,3] = -1.865\n",
        "\n",
        "result[2,1] = 'ln(P(r < -2)'\n",
        "result[2,2] = -3.783 \n",
        "result[2,3] = -3.803\n",
        "\n",
        "result[3,1] = 'ln(P(r < -3)'\n",
        "result[3,2] = -6.608\n",
        "result[3,3] = -6.624\n",
        "\n",
        "result[4,1] = 'ln(P(r < -4)'\n",
        "result[4,2] = -10.360\n",
        "result[4,3] = -10.372\n",
        "\n",
        "result[5,1] = 'ln(P(r < -5)'\n",
        "result[5,2] = -15.065 \n",
        "result[5,3] = -15.073\n",
        "\n",
        "result"
      ],
      "execution_count": null,
      "outputs": [
        {
          "output_type": "display_data",
          "data": {
            "text/plain": [
              "  Target       Built-in R Importance Sampling\n",
              "1 ln(P(r < -1)  -1.841     -1.865            \n",
              "2 ln(P(r < -2)  -3.783     -3.803            \n",
              "3 ln(P(r < -3)  -6.608     -6.624            \n",
              "4 ln(P(r < -4) -10.360    -10.372            \n",
              "5 ln(P(r < -5) -15.065    -15.073            "
            ],
            "text/latex": "A data.frame: 5 × 3\n\\begin{tabular}{lll}\n Target & Built-in R & Importance Sampling\\\\\n <chr> & <dbl> & <dbl>\\\\\n\\hline\n\t ln(P(r < -1) &  -1.841 &  -1.865\\\\\n\t ln(P(r < -2) &  -3.783 &  -3.803\\\\\n\t ln(P(r < -3) &  -6.608 &  -6.624\\\\\n\t ln(P(r < -4) & -10.360 & -10.372\\\\\n\t ln(P(r < -5) & -15.065 & -15.073\\\\\n\\end{tabular}\n",
            "text/markdown": "\nA data.frame: 5 × 3\n\n| Target &lt;chr&gt; | Built-in R &lt;dbl&gt; | Importance Sampling &lt;dbl&gt; |\n|---|---|---|\n| ln(P(r &lt; -1) |  -1.841 |  -1.865 |\n| ln(P(r &lt; -2) |  -3.783 |  -3.803 |\n| ln(P(r &lt; -3) |  -6.608 |  -6.624 |\n| ln(P(r &lt; -4) | -10.360 | -10.372 |\n| ln(P(r &lt; -5) | -15.065 | -15.073 |\n\n",
            "text/html": [
              "<table class=\"dataframe\">\n",
              "<caption>A data.frame: 5 × 3</caption>\n",
              "<thead>\n",
              "\t<tr><th scope=col>Target</th><th scope=col>Built-in R</th><th scope=col>Importance Sampling</th></tr>\n",
              "\t<tr><th scope=col>&lt;chr&gt;</th><th scope=col>&lt;dbl&gt;</th><th scope=col>&lt;dbl&gt;</th></tr>\n",
              "</thead>\n",
              "<tbody>\n",
              "\t<tr><td>ln(P(r &lt; -1)</td><td> -1.841</td><td> -1.865</td></tr>\n",
              "\t<tr><td>ln(P(r &lt; -2)</td><td> -3.783</td><td> -3.803</td></tr>\n",
              "\t<tr><td>ln(P(r &lt; -3)</td><td> -6.608</td><td> -6.624</td></tr>\n",
              "\t<tr><td>ln(P(r &lt; -4)</td><td>-10.360</td><td>-10.372</td></tr>\n",
              "\t<tr><td>ln(P(r &lt; -5)</td><td>-15.065</td><td>-15.073</td></tr>\n",
              "</tbody>\n",
              "</table>\n"
            ]
          },
          "metadata": {
            "tags": []
          }
        }
      ]
    },
    {
      "cell_type": "markdown",
      "metadata": {
        "id": "T7Xrkt2vcDBt"
      },
      "source": [
        "## **Importance Sampling for  Bayesian Inference**\n",
        "\n",
        "In Bayesian inference is the primary example where you want to determine the properties of a probability distribution given upto its kernel function.\n",
        "\n",
        "- Suppose $k(\\theta)$ is the kernel function of the posterior distribution $p(\\theta|y)$, i.e., $$f(\\theta)=p(\\theta|y)=\\frac{k(\\theta)}{C},$$ where $C=\\int k(\\theta)d\\theta=\\int p(y|\\theta)p(\\theta)d\\theta$\n",
        "\n",
        "- Typically we do not know $C$ and we know the posterior distribution in its unnormalized form, i.e.,\n",
        "$$\n",
        "p(\\theta|y)\\propto p(y|\\theta)p(\\theta)=k(\\theta)\n",
        "$$\n",
        "\n",
        "- If you want to calculate $E[h(\\theta)]$ where unnormalized density of $f(\\theta)$ is $k(\\theta)$\n",
        "\n",
        "- We can rewrite this as\n",
        "\\begin{eqnarray*}\n",
        "E[h(\\theta)]&=&\\int h(\\theta)\\frac{k(\\theta)}{C}d\\theta=\\frac{1}{C}\\int h(\\theta)\\frac{k(\\theta)}{g(\\theta)}g(\\theta)d\\theta\\\\ \n",
        "&=& \\frac{1}{C}\\int h(\\theta)\\tilde{w}(\\theta)g(\\theta)d\\theta\n",
        "\\end{eqnarray*}\n",
        "where $\\omega(\\theta)=\\frac{f(\\theta)}{g(\\theta)}=\\frac{1}{C}\\frac{k(\\theta)}{g(\\theta)}=\\frac{1}{C}\\tilde{\\omega}(\\theta)$ and $f(\\theta)=p(\\theta|y)$ is the normalized posterior density"
      ]
    },
    {
      "cell_type": "markdown",
      "metadata": {
        "id": "MmJyggSUcc04"
      },
      "source": [
        "- By LLN if $\\theta^1,\\theta^2,...,\\theta^N$ are iid random samples from $g$, then \n",
        "$$\n",
        "\\frac{1}{N}\\sum_{i=1}^N h(\\theta^i)\\tilde{\\omega}(\\theta^i)\\longrightarrow C E[h(\\theta)]\n",
        "$$\n",
        "as $N \\longrightarrow \\infty$.\n",
        "\n",
        "- Also by LLN,\n",
        "$$\n",
        "\\frac{1}{N}\\sum_{i=1}^N \\tilde{\\omega}(\\theta^i) \\longrightarrow C\n",
        "$$\n",
        "\n",
        "- Therefore Monte Carlo estimator for $E[h(\\theta)]$ using Importance Sampling Scheme is \n",
        "$$\n",
        "\\bar{h}_{IS}=\\frac{\\sum_{i=1}^N h(\\theta^i)\\tilde{\\omega}(\\theta^i)}{\\sum_{i=1}^N\\tilde{\\omega}(\\theta^i)}\n",
        "$$\n",
        "\n",
        "- The method is only reliable when the weights are not too variable.\n",
        "\n",
        "- As a rule of thumb, when\n",
        "$$\n",
        "V=\\sqrt{\\frac{1}{N}\\sum_{i=1}^N\\left(\\frac{\\tilde{\\omega}(\\theta^i)}{\\bar{\\omega}}-1\\right)^2}\n",
        "$$\n",
        "is less than 5, the IS method is reasonable. Note that $\\bar{\\omega}=\\frac{1}{N}\\sum_{i=1}^N \\tilde{\\omega}(\\theta^i)$\n",
        "\n",
        "- You will know you chose a bad $g$ when $V$ is large."
      ]
    },
    {
      "cell_type": "markdown",
      "metadata": {
        "id": "pjPdPlr9eCM3"
      },
      "source": [
        "When $V<5$ the variance $\\bar{h}_{IS}$ can be estimated as \n",
        "$$\n",
        "\\sigma_{IS}^2=\\frac{1}{N}\\sum_{i=1}^N(\\zeta^i-\\bar{h}_{IS})^2\n",
        "$$\n",
        "where $$\\zeta^i=\\frac{\\tilde{\\omega}(\\theta^i)h(\\theta^i)}{\\bar{\\omega}}$$"
      ]
    },
    {
      "cell_type": "markdown",
      "metadata": {
        "id": "cTuSpbaPeUmD"
      },
      "source": [
        "## **Modeling Road Accident**\n",
        "\n",
        "- Suppose following data presents number of accidents every month for last 12 months in a particular stretch on natitonal highway 34 (NH34)\n",
        "\n",
        "- $6, 2, 2, 1, 2, 1, 1, 2, 3, 5, 2, 1$\n",
        "\n",
        "- We define $y_i$ as the number of accident on $i^{th}$ month, i.e., $y_1=6$, $y_2=2$,... $y_{12}=1$.\n",
        "\n",
        "- We assume $y_i\\stackrel{iid}{\\sim} \\text{Poisson}(\\theta)$ and $\\theta \\sim \\text{log-Normal}(\\mu=2,\\sigma=1)$\n",
        "\n",
        "- In this problem since a non-conjugate prior is being selected the posterior distribution is known upto normalizing constant.\n",
        "\n",
        "- Simulating random samples from the unnormalized posterior distribution is difficult\n",
        "\n",
        "- So we simulate from a candidate distribution and using the importance sampling method we estimate the $\\theta$ as"
      ]
    },
    {
      "cell_type": "code",
      "metadata": {
        "colab": {
          "base_uri": "https://localhost:8080/",
          "height": 34
        },
        "id": "juEkj646e2jx",
        "outputId": "a09c31fc-7649-4eb4-8779-eb8a6c922482"
      },
      "source": [
        "y = c(6, 2, 2, 1, 2, 1, 1, 2, 3, 5, 2,1)\n",
        "\n",
        "IS=function(y,C,N){\n",
        "  ## y : data\n",
        "  ## C : C is the tuning parameter for the g distribution\n",
        "  ## N : the number of monte carlo samples\n",
        "  \n",
        "  # sample size\n",
        "  n = length(y)\n",
        "  \n",
        "  # log-post\n",
        "  log.posterior = function(t)sum(dpois(y,t,log=TRUE))+dlnorm(t,2,1,log=TRUE)\n",
        "  \n",
        "  # parameters for the trial distribution\n",
        "  a = C*mean(y); b = C;\n",
        "  \n",
        "  # log trial density, g\n",
        "  log.g = function(t){\n",
        "      dgamma(t,a,b,log=TRUE)\n",
        "  } \n",
        "  \n",
        "  # log importance function\n",
        "  log.w = function(t) log.posterior(t) - log.g(t)\n",
        "  \n",
        "  # generate from the trial distribution\n",
        "  U = rgamma(N, a, b)\n",
        "  \n",
        "  # calculate the list of log.w values\n",
        "  LP = log.w(U)\n",
        "  \n",
        "  # factor out the largest value to prevent numerical underflow\n",
        "  w = max(LP)\n",
        "  LP = LP - w\n",
        "  \n",
        "  # importance sampling estimate\n",
        "  I = mean( exp(LP)*U )/mean(exp(LP))\n",
        "  \n",
        "  # calculate V\n",
        "  V = mean( ( (exp(LP)/mean(exp(LP))) - 1)^2 )\n",
        "  \n",
        "  # calculate s.e. of the IS estimate\n",
        "  Z = exp(LP)/mean(exp(LP))\n",
        "  sig.sq = (1/N)*sum( (Z-I)^2 )\n",
        "  se = sqrt( sig.sq/N )\n",
        "  # return the 95 percent confidence interval for the estimate\n",
        "  return(c(I - 1.96*se, I + 1.96*se, V, I))\n",
        "}\n",
        "set.seed(5818)\n",
        "\n",
        "\n",
        "## calculate V, E(theta|X), and var(E(theta|X))\n",
        "## for a grid of values for c\n",
        "const = seq(.05, 20, length=500)\n",
        "A = matrix(0, 500, 2)\n",
        "\n",
        "for(j in 1:500){\n",
        "  OUT = IS(y, const[j], 1000)\n",
        "  V = OUT[3]\n",
        "  Var = (OUT[2]-OUT[1])/3.92\n",
        "  A[j,] = c(V, Var)\n",
        "}\n",
        "\n",
        "# final Estimate\n",
        "IS(y, const[which.min(A[,2])], 1000)[4]\n",
        "\n"
      ],
      "execution_count": null,
      "outputs": [
        {
          "output_type": "display_data",
          "data": {
            "text/plain": [
              "[1] 2.737056"
            ],
            "text/latex": "2.73705619939327",
            "text/markdown": "2.73705619939327",
            "text/html": [
              "2.73705619939327"
            ]
          },
          "metadata": {
            "tags": []
          }
        }
      ]
    },
    {
      "cell_type": "markdown",
      "metadata": {
        "id": "Kod2V6lIfaec"
      },
      "source": [
        "**Importance Sampling**\n",
        "\n",
        "- Note that simulated ($\\theta^1,...,\\theta^N$) is not from the target density ... it is from the candidate density $g$\n",
        "\n",
        "- IS is an estimation method\n",
        "\n",
        "- Later we will see that simulation from target can be done by adding step to IS "
      ]
    },
    {
      "cell_type": "markdown",
      "metadata": {
        "id": "vvyT3lkRdyNQ"
      },
      "source": [
        "\n",
        "REf : Lecture Notes of Prof Art Owen at: https://statweb.stanford.edu/~owen/mc/Ch-var-is.pdf"
      ]
    },
    {
      "cell_type": "markdown",
      "metadata": {
        "id": "33_wish0MLkI"
      },
      "source": [
        "## **Markov Chain Monte Carlo**\n",
        "\n",
        "Ref: http://patricklam.org/teaching/mcmc_print.pdf\n",
        "\n",
        "- **Markov Chain** a stochastic process in which future states are independent of past states given the present state\n",
        "- **Monte Carlo** simulation technique\n",
        "- Up until now, we have done Monte Carlo simulation to find integrals instead of doing it analytically. This process is called **Monte Carlo Integration**.\n"
      ]
    },
    {
      "cell_type": "markdown",
      "metadata": {
        "id": "zcXh9WUXOpaQ"
      },
      "source": [
        "- Suppose we have a distribution $f(\\theta)$ (perhaps a posterior) from which we want to draw samples.\n",
        "\n",
        "- To derive it analytically, we need to take integrals:\n",
        "$$\n",
        "I=\\int_{\\Theta}h(\\theta)f(\\theta)d\\theta\n",
        "$$\n",
        "where $h(\\theta)$ is some function of $\\theta$ ($h(\\theta) = \\theta$ for the mean and $h(\\theta) = (\\theta - E(\\theta))^2$ for the variance).\n"
      ]
    },
    {
      "cell_type": "markdown",
      "metadata": {
        "id": "xCmHtMgdOyKh"
      },
      "source": [
        "- We can approximate the integrals via Monte Carlo Integration by\n",
        "simulating $M$ values from $p(\\theta)$ and calculating\n",
        "$$\n",
        "\\hat{I}=\\frac{1}{M}\\sum_{i=1}^Mh(\\theta^i)\n",
        "$$\n"
      ]
    },
    {
      "cell_type": "markdown",
      "metadata": {
        "id": "oRSYNzt7QoIQ"
      },
      "source": [
        "- For example, we can compute the expected value of the $Beta(3,4)$\n",
        "distribution analytically:\n",
        "$$\n",
        "E(\\theta)=\\int_{0}^1 \\theta f(\\theta)d\\theta=\\int_{0}^1 \\theta \\theta^{3-1}(1-\\theta)^{4-1}d\\theta=\\frac{3}{7}=0.4286\n",
        "$$\n",
        "or via Monte Carlo methods:\n"
      ]
    },
    {
      "cell_type": "code",
      "metadata": {
        "colab": {
          "base_uri": "https://localhost:8080/",
          "height": 34
        },
        "id": "e_d4lkQbQtEK",
        "outputId": "78943be0-9c23-4f4d-a776-d9b901d65a45"
      },
      "source": [
        "set.seed(88732)\n",
        "M <- 50000\n",
        "beta.sims <- rbeta(M, 3, 4)\n",
        "sum(beta.sims)/M"
      ],
      "execution_count": null,
      "outputs": [
        {
          "output_type": "display_data",
          "data": {
            "text/plain": [
              "[1] 0.4288105"
            ],
            "text/latex": "0.428810523264182",
            "text/markdown": "0.428810523264182",
            "text/html": [
              "0.428810523264182"
            ]
          },
          "metadata": {
            "tags": []
          }
        }
      ]
    },
    {
      "cell_type": "markdown",
      "metadata": {
        "id": "sofjKjdAQzYZ"
      },
      "source": [
        "- Our Monte Carlo approximation $\\hat{I}$ is a simulation estimator such that\n",
        "$\n",
        "\\hat{I}\\longrightarrow I\n",
        "$\n",
        "as \n",
        "$\n",
        "M \\longrightarrow \\infty\n",
        "$\n",
        "- This follows from LLN.\n"
      ]
    },
    {
      "cell_type": "markdown",
      "metadata": {
        "id": "myWp6b8_Q6KV"
      },
      "source": [
        "- Let $\\theta_1,\\theta_2, \\cdots$ be a sequence of **independent** and identically distributed random variables, each having a finite mean $\\mu =E(\\theta_i)$.\n",
        "- Then with probability 1,\n",
        "$$\n",
        "\\frac{\\theta_1+\\theta_2+...\\theta_M}{M}\\longrightarrow \\mu ~~~ as ~~ M \\longrightarrow \\infty\n",
        "$$\n",
        "- In the example, each simulated random sample was independent and distributed from the same $Beta(3,4)$ distribution.\n",
        "- But what if we cannot generate draws that are **independent**?\n"
      ]
    },
    {
      "cell_type": "markdown",
      "metadata": {
        "id": "xI-KPEpYRifp"
      },
      "source": [
        "### **Fail to Draw Independent Random Samples**\n",
        "\n",
        "- Suppose we want to draw from our posterior distribution $p(\\theta|y)$,\n",
        "but we cannot draw independent sample from it.\n",
        "- For example, we often do not know the normalizing constant.\n",
        "- We may be able to sample draws from $p(\\theta|y)$ that are slightly dependent.\n",
        "- If we can draw slightly dependent samples using a **Markov chain**, then can we solve the integration?\n"
      ]
    },
    {
      "cell_type": "markdown",
      "metadata": {
        "id": "bWxLm1BxXpgC"
      },
      "source": [
        "## **What is a Markov Chain?**\n",
        "\n",
        "- **Definition**: Markov Chain is a stochastic process in which future states are independent of past states given the present state\n",
        "- **Stochastic process**: a consecutive set of random (not deterministic) quantities defined on some known state space $\\Theta$.\n",
        "- Think of $\\Theta$ as our parameter space\n",
        "- Consecutive implies a time component, indexed by $t$."
      ]
    },
    {
      "cell_type": "markdown",
      "metadata": {
        "id": "jNgPzZIMYEyq"
      },
      "source": [
        "- Consider a draw of $\\theta^{(t)}$ to be a state at iteration $t$.\n",
        "- The next draw $\\theta^{(t+1)}$ is dependent only on the current draw $\\theta^{(t)}$, and not on any past draws.\n",
        "- **Markov Property**:\n",
        "$$\n",
        "p(\\theta^{(t+1)}|\\theta^{(t)},\\theta^{(t-1)},...,\\theta^{(1)})=p(\\theta^{(t+1)}|\\theta^{(t)})\n",
        "$$\n"
      ]
    },
    {
      "cell_type": "markdown",
      "metadata": {
        "id": "erxV5O9vYWuz"
      },
      "source": [
        "- So our Markov chain is a bunch of draws of $\\theta$ that are each dependent on the previous draw. \n",
        "- The chain wanders around the parameter space, remembering only where it has been in the last time.\n",
        "- What are the rules that govern how the chain jumps from one state to another at each time?\n",
        "- The rule that govern the jump are known as **transition kernel**."
      ]
    },
    {
      "cell_type": "markdown",
      "metadata": {
        "id": "BeIBybWdYn_u"
      },
      "source": [
        "## **Transition Kernel**\n",
        "\n",
        "- For discrete state space ($k$ possible states): a $k \\times k$ matrix of\n",
        "transition probabilities.\n",
        "- **Example**: Suppose $k = 3$. The $3 \\times 3$ transition matrix \\textbf{P} would be\n",
        "$$\n",
        "\\begin{table}\n",
        "\\begin{tabular}{|c|c|c|}\\hline\n",
        "$p(\\theta_1^{(t=1)}|\\theta_1^{(t)})$ & $p(\\theta_2^{(t=1)}|\\theta_1^{(t)})$ & $p(\\theta_3^{(t=1)}|\\theta_1^{(t)})$ \\\\ \\hline\n",
        "$p(\\theta_1^{(t=1)}|\\theta_2^{(t)})$ & $p(\\theta_2^{(t=1)}|\\theta_2^{(t)})$ & $p(\\theta_3^{(t=1)}|\\theta_2^{(t)})$ \\\\ \\hline\n",
        "$p(\\theta_1^{(t=1)}|\\theta_3^{(t)})$ & $p(\\theta_2^{(t=1)}|\\theta_3^{(t)})$ & $p(\\theta_3^{(t=1)}|\\theta_3^{(t)})$ \\\\ \\hline\n",
        "\\end{tabular}\n",
        "\\end{table}\n",
        "$$\n",
        "where the subscripts index the 3 possible values that $\\theta$ can take.\n",
        "- The rows sum to one and define a conditional probability mass function, conditional on the current state.\n",
        "- The columns are the marginal probabilities of being in a certain state in the next time.\n"
      ]
    },
    {
      "cell_type": "markdown",
      "metadata": {
        "id": "Tomfs3BFZDqa"
      },
      "source": [
        "1. Define a starting distribution $\\Pi^{(0)}$ (a $1 \\times k$ vector of probabilities that sum to one).\n",
        "- At iteration 1, our distribution $\\Pi^{(1)}$ (from which $\\theta^{(1)}$ is drawn) is\n",
        "$$\n",
        "\\Pi_{(1 \\times k) }^{(1)} = \\Pi_{(1 \\times k) }^{(0)} \\times \\textbf{P} \n",
        "$$\n",
        "- At iteration 2, our distribution $\\Pi^{(2)}$ (from which $\\theta^{(2)}$ is drawn) is\n",
        "$$\n",
        "\\Pi_{(1 \\times k) }^{(2)} = \\Pi_{(1 \\times k) }^{(1)} \\times \\textbf{P} \n",
        "$$\n",
        "- At iteration t, our distribution $\\Pi^{(t)}$ (from which $\\theta^{(t)}$ is drawn) is\n",
        "$$\n",
        "\\Pi_{(1 \\times k) }^{(t)} = \\Pi_{(1 \\times k) }^{(t-1)} \\times \\textbf{P}=\\Pi_{(1\\times k)}^{(0)} \\times \\textbf{P}^t \n",
        "$$\n"
      ]
    },
    {
      "cell_type": "markdown",
      "metadata": {
        "id": "bO2iPjJ7ZW3N"
      },
      "source": [
        "## **Stationarity of Markov Chain**\n",
        "\n",
        "- Define a stationary distribution $\\pi$ to be some distribution $\\Pi$ such that $\\pi=\\pi\\textbf{P}$\n",
        "\n",
        "- Here we blur the distinction between the Markov chain and its transtion matrix $\\textbf{P}$.\n",
        "\n",
        "- **If posterior distribution is proper then the Markov Chain of the MCMC algorithm will typically converge to $p(\\theta|y)$ regardless of our starting points.**\n",
        "\n",
        "- **So if we can devise a Markov chain whose stationary distribution $\\Pi$ is our desired posterior distribution $p(\\theta|y)$ then we can run this chain to get draws that approximately from $p(\\theta|y)$ once the chain has converged.**\n"
      ]
    },
    {
      "cell_type": "markdown",
      "metadata": {
        "id": "Hw7jQEoOZt_Z"
      },
      "source": [
        "## **Fundamental Theorem of Markov Chain**\n",
        "\n",
        "- If a Markov chain $\\textbf{P}$ is $\\textit{irreducible}$, $\\textit{aperiodic}$ and $\\textit{positive recurret}$ then it has an unique stationary distribution $\\pi$.  \n",
        "\n",
        "- This is the unique (normalized such that the entries sum to 1) left eigenvector of $\\textbf{P}$ with eigenvalue 1. \n"
      ]
    },
    {
      "cell_type": "markdown",
      "metadata": {
        "id": "F7j0Zq_waEhQ"
      },
      "source": [
        "## **Burn-In**\n",
        "\n",
        "- In light of the Fundamental theorem of MC, we shall refer to an irreducible, aperiodic Markov chain as ergodic.\n",
        "- So as long as we can simulate an ergodic Markov chain, irrespective of the starting point the chain will converge to target stationary distribution.\n",
        "- However, the time it takes for the chain to converge may vary; depending on the starting point.\n",
        "- As a best practice, it is advisable to throw out a certain number\n",
        "of the first draws, known as the $\\textbf{burn-in}$.\n"
      ]
    },
    {
      "cell_type": "markdown",
      "metadata": {
        "id": "9mpI5hJaaUa_"
      },
      "source": [
        "## **Markov Chain Monte Carlo Integration**\n",
        "\n",
        "- Once we have a Markov chain that has converged to the stationary distribution, then the draws in our chain appear to be like draws from $p(\\theta|y)$, so it seems like we should be able to use Monte Carlo Integration methods to find quantities of interest.\n",
        "\n",
        "- $\\textbf{One Problem}$: *MC draws are not independent, which we required for Monte Carlo Integration to work (required condition for SLLN to work).*\n",
        "\n",
        "- The answer is $\\textbf{Ergodic Theorem}$\n"
      ]
    },
    {
      "cell_type": "markdown",
      "metadata": {
        "id": "G33iRTn7au4p"
      },
      "source": [
        "### **Ergodic Theorem**\n",
        "\n",
        "Let $\\theta^{(1)},\\theta^{(2)},...,\\theta^{(T)}$ be $T$ values from Markov chain that is aperiodic, irreducible and positive recurrent (that is the chain is ergodic) and $\\mathbb{E}[g(\\theta)] < \\infty$\n",
        "Then with probability 1\n",
        "$$\n",
        "\\frac{1}{T}\\sum_{t=1}^Tg(\\theta^{(t)})\\longrightarrow \\int_{\\Theta}g(\\theta)\\pi(\\theta)d\\theta\n",
        "$$\n",
        "as $T \\longrightarrow \\infty$ where $\\pi$ is the stationary distribution.\n"
      ]
    },
    {
      "cell_type": "markdown",
      "metadata": {
        "id": "J2eIJDRWa9Y2"
      },
      "source": [
        "1. This is the Markov chain analog to the LLN.\n",
        "2. But what does it mean for a chain to be aperiodic, irreducible, and positive recurrent?\n"
      ]
    },
    {
      "cell_type": "markdown",
      "metadata": {
        "id": "fLwlFjrDbH2t"
      },
      "source": [
        "### **Aperiodicity**\n",
        "\n",
        "- A Markov chain $P$ is aperiodic if for all $x, y \\in \\Omega$ we have $gcd\\{t : P^t(x, y) > 0\\} = 1$.\n",
        "- If the only length of time for which the chain repeats some cycle of values is the trivial case with cycle length equal to one then the chain is aperiodic.\n",
        "- Intuitively we can say repeatation is allowed but as long as the chain is not repeating itself in an identical cycle, then the chain is aperiodic\n"
      ]
    },
    {
      "cell_type": "markdown",
      "metadata": {
        "id": "8xBauXGDbTV7"
      },
      "source": [
        "### **Irreducibility**\n",
        "\n",
        "- A Markov chain is \\textit{irreducible} if it is possible go from any state to any other state (not necessarily in one step).\n",
        "- A Markov chain $\\textbf{P}$ is \\textit{irreducible} if for all $x, y$, there exists some $t$ such that $P^t(x, y) > 0$.\n",
        "- We can show if $\\textbf{P}$ is \\textit{irreducible}, then $\\textbf{P}$ is {aperiodic} $\\iff$ there exists $t$ such that $P^{t}(x,y)>0$ for all $x,y \\in \\Omega$.\n"
      ]
    },
    {
      "cell_type": "markdown",
      "metadata": {
        "id": "XSYghw7Zc2Fy"
      },
      "source": [
        "### **Positive Recurrence**\n",
        "\n",
        "- A Markov chain is \\textit{recurrent} if for any given state $i$ , if the chain starts at $i$, it will eventually return to $i$ with probability $1$.\n",
        "- A Markov chain is \\textit{positive recurrent} if the expected return time\n",
        "to state \\textit{i} is finite; otherwise it is null recurrent.\n",
        "- So if our Markov chain is aperiodic, irreducible, and positive\n",
        "recurrent then it is ergodic and the ergodic theorem allows us to do Monte\n",
        "Carlo Integration by calculating $E[g(\\theta)]$ from draws, ignoring the dependence between draws.\n"
      ]
    },
    {
      "cell_type": "markdown",
      "metadata": {
        "id": "GSF9T0PndES3"
      },
      "source": [
        "### **What is MCMC?**\n",
        "\n",
        "- **MCMC** is a class of Monte Carlo methods in which we can simulate dependent sample that are approximately from a posterior probability distribution.\n",
        "- We then take the draws and calculate quantities of interest for the posterior distribution.\n",
        "- In Bayesian statistics, there are generally two MCMC algorithms that we use: the Gibbs Sampler and the Metropolis-Hastings algorithm.\n"
      ]
    },
    {
      "cell_type": "markdown",
      "metadata": {
        "id": "tGRLx-Q8deC7"
      },
      "source": [
        "## **Two MCMC Samplers**\n",
        "\n",
        "1. Gibbs Sampling\n",
        "2. Metropolis Hastings Algorithms\n"
      ]
    },
    {
      "cell_type": "markdown",
      "metadata": {
        "id": "nbaGxYIA-QSo"
      },
      "source": [
        "### **Gibbs Sampler**\n",
        "\n",
        "- Suppose we have a joint posterior distribution $p(\\theta_1,...,\\theta_k| data )$ that we want to sample from.\n",
        "- We can use the Gibbs sampler to sample from the target distribution\n",
        "if we know the \\textbf{full conditional posterior} distributions for each parameter.\n",
        "- For each parameter, the \\textcolor{red}{full conditional posterior} distribution is the distribution of the parameter conditional on the known information and all the other parameters: $p(\\theta_j|\\theta_{-j},y)$\n"
      ]
    },
    {
      "cell_type": "markdown",
      "metadata": {
        "id": "U6tWiIMs_lfV"
      },
      "source": [
        "### **The Hammersley-Clifford Theorem**\n",
        "- For two blocks - Suppose we have a joint density $f(x,y)$.  The theorem proves that we can write out the joint density in terms of the conditional densities.$f(x|y)$ and $f(y|x)$\n",
        "$$\n",
        "f(x,y)=\\frac{f(y|x)}{\\int \\frac{f(y|x)}{f(x|y)}dy}\n",
        "$$\n",
        "- We can write the denominator as\n",
        "\\begin{eqnarray*}\n",
        "\\int \\frac{f(y|x)}{f(x|y)}dy &=& \\int \\frac{\\frac{f(x,y)}{f(x)}}{\\frac{f(x,y)}{f(y)}}dy\\\\\n",
        "&=&\\int \\frac{f(y)}{f(x)}dy\\\\\n",
        "&=&\\frac{1}{f(x)}\n",
        "\\end{eqnarray*}\n"
      ]
    },
    {
      "cell_type": "markdown",
      "metadata": {
        "id": "b1Z3r4u9AUth"
      },
      "source": [
        "### **Gibbs Sampler Steps**\n",
        "\n",
        "- Suppose that we are interested in sampling from the posterior\n",
        "$p(\\theta|y)$, where $\\theta$ is a vector of three parameters,\n",
        "$\\theta_1$, $\\theta_2$, $\\theta_3$. \n",
        "      \n",
        "- The steps to a Gibbs Sampler are \n",
        "    1. Pick a vector of starting values $\\theta^{(0)}$(*Defining a starting distribution$\\Pi^{(0)}$ and drawing $\\theta^{(0)}$ from it.*) \n",
        "\n",
        "    2. Draw a value $\\theta_1^{(1)}$ from the full conditional $p(\\theta_1|\\theta_2^{(0)}, \\theta_3^{(0)},y)$. \n",
        "\n",
        "    3. Draw a value $\\theta_2^{(1)}$ from the full conditional $p(\\theta_2|\\theta_1^{(1)}, \\theta_3^{(0)},y)$. (*Note that we must use the updated value of $\\theta_1^{(1)}$.*) \n",
        "\n",
        "    4. Draw a value $\\theta_3^{(1)}$ from the full conditional $p(\\theta_3|\\theta_1^{(1)}, \\theta_2^{(1)}, y)$. \n",
        "\n",
        "- Steps 2-4 are analogous to multiplying $\\Pi^{(0)}$ and **P** to get $\\Pi^{(1)}$ and then drawing $\\theta^{(1)}$ \n",
        "\n",
        "    5. Draw $\\theta^{(2)}$ using $\\theta^{(1)}$ and continually using the most updated. \n",
        "\n",
        "    6. Repeat untill you have $M$ draws with each draw being a vector $\\theta^{(t)}$.\n",
        "values. \n",
        "    7. Optional burn-in and/or thinning.\n",
        "     \n",
        "- 'Gibbs sample' is a Markov chain with a bunch of draws of $\\theta$ that are approximately from our posterior. \n"
      ]
    },
    {
      "cell_type": "markdown",
      "metadata": {
        "id": "z5DyEqQvRLNm"
      },
      "source": [
        "### **The Metropolis-Hastings Sampler**\n",
        "\n",
        "- Suppose we have a posterior $p(\\theta|y)$ that we want to sample from, but \n",
        "  - the posterior does not look like any known distribution that we know \n",
        "  - If the posterior consists of more than 2 parameters then grid\n",
        "approximations is not possible. \n",
        "  - some (or all) of the full conditionals do not follow known distributions. Therefore Gibbs sampling is not possible for those\n",
        "whose full conditionals are not known. \n",
        "- In such cases, we can use the **Metropolis-Hastings** algorithm."
      ]
    },
    {
      "cell_type": "markdown",
      "metadata": {
        "id": "7qjDSzbSXtHT"
      },
      "source": [
        "**The Metropolis-Hastings Algorithm** :\n",
        "1. Choose starting value $\\theta^{(0)}$\n",
        "\n",
        "2. At iteration $t$, draw a candidate $\\theta^{*}$ from a proposal distribution $q_t(\\theta^{*}|\\theta^{t-1}))$.\n",
        "\n",
        "3. Compute the acceptance ratio\n",
        "$$\n",
        "r=\\frac{p(\\theta^*|y)/q_t(\\theta^*|\\theta^{(t-1)})}{p(\\theta^{(t-1)}|y)/q_t(\\theta^{(t-1)}|\\theta^{*})}\n",
        "$$\n",
        "\n",
        "4. Accept $\\theta^{(t)}=\\theta^{*}$ if $U<\\min(1,r)$ where $U\\sim uniform(0,1)$\n",
        "   \n",
        "   Otherwise $\\theta^{(t)}=\\theta^{(t-1)}$\n",
        "\n",
        "5. Repeat steps 2-4 $M$ times to get $M$ draws from $p(\\theta|y)$ with optional burn-in and/or thinning\n"
      ]
    },
    {
      "cell_type": "markdown",
      "metadata": {
        "id": "lgr02DufZ0jt"
      },
      "source": [
        "**Step 1: Choose a starting value $\\theta^{(0)}$**\n",
        "\n",
        "  1. This is similar to draw sample from initial stationary distribution.\n",
        "  2. Note that $\\theta^{(0)}$ must have positive probability.\n",
        "$$\n",
        "p(\\theta^{(0)}|y)>0\n",
        "$$"
      ]
    },
    {
      "cell_type": "markdown",
      "metadata": {
        "id": "WvSnsbdiaxZV"
      },
      "source": [
        "**Step 2: Draw $\\theta^{(*)}$ from $q_t(\\theta^{*}|\\theta^{(t-1)})$**\n",
        "\n",
        "1. The proposal distribution $q_t(\\theta^{*}|\\theta^{(t-1)})$ determines where it moves in the next iteration of the Markov chain.\n",
        "2. The proposal distribution is analogous to transition kernel.\n",
        "3. The support of proposal density must contain the support of the posterior\n",
        "4. If a symmetric proposal distribution that is dependent on $\\theta^{(t-1)}$, then it is known as **random walk Metropolis sampling**.\n",
        "5. If the proposal distribution does not depend on $\\theta^{(t-1)}$\n",
        "$$\n",
        "q_t(\\theta^*|\\theta^{(t-1)})=q_t(\\theta^*)\n",
        "$$\n",
        "then it is known as **independent Metropolis-Hasting sampling**.\n",
        "6. In this case all candidate draws $\\theta^{*}$ are drawn from the same distribution, regardless of where the previous draw was.\n",
        "7. This can be very efficient or very inefficient, depending how close the proposal density with respect to posterior density.\n",
        "8. Typically, if proposal density has heavier tails than the posterior, then chain will behave nicely\n"
      ]
    },
    {
      "cell_type": "markdown",
      "metadata": {
        "id": "bVxM2jEebNWO"
      },
      "source": [
        "**Step 3: Compute acceptance ratio $r$ .**\n",
        "\n",
        "1. The acceptance ratios:\n",
        "$$\n",
        "r=\\frac{p(\\theta^*|y)/q_t(\\theta^*|\\theta^{(t-1)})}{p(\\theta^{(t-1)}|y)/q_t(\\theta^{(t-1)}|\\theta^{*})}\n",
        "$$\n",
        "2. In the case where our proposal density is symmetric\n",
        "$$\n",
        "r=\\frac{p(\\theta^{*}|y)}{p(\\theta^{(t-1)}|y)}\n",
        "$$\n",
        "3. If the candidate sample has higher probability than the current sample, then the candidate is better so we definitely accept it.\n",
        "4. Otherwise, the candidate is accepted according to the ratio of the probabilities of the candidate and current samples.\n",
        "5. Since $r$ is a ratio, we only need to know the $p(\\theta|y)$ upto a constant.\n"
      ]
    },
    {
      "cell_type": "markdown",
      "metadata": {
        "id": "okN6R7t8eaWp"
      },
      "source": [
        "**Step 4: Decide to whether accept $\\theta^{*}$**\n",
        "\n",
        "1. Accept $\\theta^{*}$ as $\\theta^{(t)}$ with probability $\\min(r,1)$\n",
        "\n",
        "2. For each $\\theta^{*}$, draw a value $u$ from the $Uniform(0,1)$ distribution.\n",
        "\n",
        "3. If $u \\leq r$ accept $\\theta^{*}$ as $\\theta^{(t)}$. Otherwise $\\theta^{(t-1)}=\\theta^{(t)}$\n",
        "\n",
        "4. Candidate sample with higher density than the current samples are always accepted\n",
        "\n",
        "5. Unlike in rejection sampling, each iteration always produces a sample, either $\\theta^{*}$ or $\\theta^{(t-1)}$.\n"
      ]
    },
    {
      "cell_type": "markdown",
      "metadata": {
        "id": "BXWTWgMNGO2W"
      },
      "source": [
        "### **How MCMC works?**\n",
        "\n",
        "- In the cartoon below the **red density** is our **target density**, which is **stationary density**. It does not move around. It is static in one place.\n",
        "\n",
        "- But we know it only upto its kernel. We don't know how to simulate from it.\n"
      ]
    },
    {
      "cell_type": "markdown",
      "metadata": {
        "id": "dwcyWOGgF0wZ"
      },
      "source": [
        "![MCMC_demo_1.jpg](data:image/jpeg;base64,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)"
      ]
    },
    {
      "cell_type": "markdown",
      "metadata": {
        "id": "7XI7orJPHesR"
      },
      "source": [
        "- We choose a simple initial proposal density which maybe far from target density.\n",
        "\n",
        "- But we know how to simulate from it"
      ]
    },
    {
      "cell_type": "markdown",
      "metadata": {
        "id": "2hT_qSjPF5FN"
      },
      "source": [
        "![MCMC_demo_2.jpg](data:image/jpeg;base64,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)"
      ]
    },
    {
      "cell_type": "markdown",
      "metadata": {
        "id": "khvrTSThIawc"
      },
      "source": [
        "- We simulate from proposal density and accept a value with certain probability\n",
        "\n",
        "- Once we accept a value; we update our proposal density and simulate from new proposal density"
      ]
    },
    {
      "cell_type": "markdown",
      "metadata": {
        "id": "m9IhucjoF_Rs"
      },
      "source": [
        "![MCMC_demo_3.jpg](data:image/jpeg;base64,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)"
      ]
    },
    {
      "cell_type": "markdown",
      "metadata": {
        "id": "cbIstJO9KcjO"
      },
      "source": [
        "- Since the updation of proposal density was made using the transition kernel density; it creates a **Markov Chain**"
      ]
    },
    {
      "cell_type": "markdown",
      "metadata": {
        "id": "5Iqz5_LUGHzP"
      },
      "source": [
        "![MCMC_demo_4.jpg](data:image/jpeg;base64,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)"
      ]
    },
    {
      "cell_type": "markdown",
      "metadata": {
        "id": "8LDpQmLAGLY2"
      },
      "source": [
        "- **Fundamental Theorem of Markov Chain** ensures that the chain converges to its stationary distribution."
      ]
    },
    {
      "cell_type": "markdown",
      "metadata": {
        "id": "jwGAgwqQXG0G"
      },
      "source": [
        "**Bayesian CAPM where Idiosyncratic Return follows Laplace Distribution!**\n",
        "\n",
        "- We want to model the relationship as\n",
        "$$\n",
        "r_t^{\\text{portf}}=\\alpha+\\beta~r_t^{\\text{S&P 500}} + \\epsilon\n",
        "$$\n",
        "where \n",
        "  - $r_t^{\\text{portf}}$ is portfolio return\n",
        "  - $r_t^{\\text{S&P 500}}$ is market index return\n",
        "  - $\\epsilon \\sim Laplace(0,\\lambda)$\n",
        "\n",
        "- That is the idiosyncratic Return follows Laplace Distribution\n",
        "\n",
        "- $$\\alpha \\sim Cauchy(0,1)$$\n",
        "- $$\\beta \\sim Cauchy(0,1)$$\n",
        "- $$\\lambda \\sim \\text{Half-Cauchy}(0,1)$$"
      ]
    },
    {
      "cell_type": "code",
      "metadata": {
        "colab": {
          "base_uri": "https://localhost:8080/"
        },
        "id": "GoXiHaJ6h2ii",
        "outputId": "20993437-1073-4993-c0bf-32d72d9288c4"
      },
      "source": [
        "install.packages('mvtnorm')\n",
        "library('mvtnorm')"
      ],
      "execution_count": null,
      "outputs": [
        {
          "output_type": "stream",
          "text": [
            "Installing package into ‘/usr/local/lib/R/site-library’\n",
            "(as ‘lib’ is unspecified)\n",
            "\n"
          ],
          "name": "stderr"
        }
      ]
    },
    {
      "cell_type": "code",
      "metadata": {
        "colab": {
          "base_uri": "https://localhost:8080/"
        },
        "id": "QG-tigdUhAnH",
        "outputId": "12940131-a53a-4aaa-c6f8-28e59e842ade"
      },
      "source": [
        "\n",
        "data = read.csv(file='https://www.cmi.ac.in/~sourish/StatFin2016/Program/R_Workshop/stock_treasury.csv')\n",
        "n = nrow(data)\n",
        "cat('Sample size = ',n,'\\n')\n",
        "\n",
        "# Risk Free Rate is in percentage and annualised. \n",
        "# So the following conversion is required.\n",
        "Rf = data$UST_Yr_1/(250)\n",
        "\n",
        "## Compute log-return in percentage\n",
        "ln_rt_snp500 = diff(log(data$SnP500))*100-Rf[2:n]\n",
        "ln_rt_ibm = diff(log(data$IBM_AdjClose))*100-Rf[2:n]\n",
        "ln_rt_apple = diff(log(data$Apple_AdjClose))*100-Rf[2:n]\n",
        "ln_rt_msft = diff(log(data$MSFT_AdjClose))*100-Rf[2:n]\n",
        "ln_rt_intel = diff(log(data$Intel_AdjClose))*100-Rf[2:n]\n",
        "\n",
        "## log-return of the portfolio\n",
        "ln_r = cbind(ln_rt_ibm,ln_rt_apple,ln_rt_msft,ln_rt_intel)\n",
        "\n",
        "### Portfolio\n",
        "w = c(0.2,0.3,0.25,0.25)\n",
        "ln_rt_portf = ln_r%*%w"
      ],
      "execution_count": null,
      "outputs": [
        {
          "output_type": "stream",
          "text": [
            "Sample size =  250 \n"
          ],
          "name": "stdout"
        }
      ]
    },
    {
      "cell_type": "markdown",
      "metadata": {
        "id": "ZQMbliBpXMzg"
      },
      "source": [
        "**Write log-likelihood function**"
      ]
    },
    {
      "cell_type": "code",
      "metadata": {
        "id": "9AGeLO1kXP_c"
      },
      "source": [
        "log_likelihood = function(param,y,x){\n",
        "  a = param[1]\n",
        "  b = param[2]\n",
        "  lambda = param[3]\n",
        "  pred = a + b*x \n",
        "  likelihoods = -log(2*lambda)-abs(y-pred)/lambda\n",
        "  sumll = sum(likelihoods)\n",
        "  return(sumll)   \n",
        "}\n"
      ],
      "execution_count": null,
      "outputs": []
    },
    {
      "cell_type": "markdown",
      "metadata": {
        "id": "a9OCt_HBXUxv"
      },
      "source": [
        "**Write log-prior function**"
      ]
    },
    {
      "cell_type": "code",
      "metadata": {
        "id": "xJMTOnARXXdR"
      },
      "source": [
        "dHalfCauchy = function(theta,log=FALSE){\n",
        "  if(log==FALSE){\n",
        "    return(2/(pi*(1+theta^2)))\n",
        "  }else{\n",
        "    return(log(2)-log(pi)-log(1+theta^2))\n",
        "  }\n",
        "}\n",
        "\n",
        "log_prior = function(param,x){\n",
        "  a = param[1]\n",
        "  b = param[2]\n",
        "  lambda = param[3]\n",
        "  a_prior = dcauchy(a,0,1,log = T) \n",
        "  b_prior = dcauchy(b,0,1,log = T) \n",
        "  scale_prior = dHalfCauchy(theta=lambda,log = T)\n",
        "  \n",
        "  return(a_prior+b_prior+scale_prior)\n",
        "}\n"
      ],
      "execution_count": null,
      "outputs": []
    },
    {
      "cell_type": "markdown",
      "metadata": {
        "id": "FwzTZnXnXbcE"
      },
      "source": [
        "**Write log-posterior function**"
      ]
    },
    {
      "cell_type": "code",
      "metadata": {
        "id": "ftdfuxaXXeHT"
      },
      "source": [
        "log_posterior = function(param,y,x){\n",
        "  like = log_likelihood(param=param,y=y,x=x)\n",
        "  prior = log_prior(param=param,x=x)\n",
        "  post  = like + prior\n",
        "  return ( post )\n",
        "}"
      ],
      "execution_count": null,
      "outputs": []
    },
    {
      "cell_type": "markdown",
      "metadata": {
        "id": "JJVsM4KYXo5E"
      },
      "source": [
        "**Bayesian CAPM Model Fitting with Metropolis-Hastings Algorithm**\n",
        "\n",
        "- Use conjugate posterior or posterior with flat prior as **proposal function**"
      ]
    },
    {
      "cell_type": "code",
      "metadata": {
        "id": "-lidDFZqXneI"
      },
      "source": [
        "proposalfunction = function(param,x){\n",
        "  X=cbind(rep(1,length(x)),x)\n",
        "  S=param[3]*solve(t(X)%*%X)\n",
        "  prop = c(rmvnorm(1\n",
        "                  ,mean = param[1:2]\n",
        "                  ,sigma = S)\n",
        "          ,rgamma(1,param[3]*5,5))\n",
        "  return(prop)\n",
        "}\n"
      ],
      "execution_count": null,
      "outputs": []
    },
    {
      "cell_type": "markdown",
      "metadata": {
        "id": "2Nm8d80ZXwHI"
      },
      "source": [
        "**Run Metropolis**"
      ]
    },
    {
      "cell_type": "code",
      "metadata": {
        "id": "Z78f6KcwXzAm"
      },
      "source": [
        "run_metropolis = function(startvalue, N.sim, burnin){\n",
        "  iterations = N.sim + burnin\n",
        "  chain = array(dim = c(iterations+1,3))\n",
        "  chain[1,] = startvalue\n",
        "  for (i in 1:iterations){\n",
        "    proposal = proposalfunction(chain[i,],x=x)\n",
        "    \n",
        "    probab = exp(log_posterior(param=proposal\n",
        "                               ,y=y,x=x) \n",
        "                 - log_posterior(param=chain[i,]\n",
        "                                 ,y=y,x=x))\n",
        "    \n",
        "    if (runif(1) < probab){\n",
        "      chain[i+1,] = proposal\n",
        "    }else{\n",
        "      chain[i+1,] = chain[i,]\n",
        "    }\n",
        "  }\n",
        "  return(chain)\n",
        "}\n"
      ],
      "execution_count": null,
      "outputs": []
    },
    {
      "cell_type": "code",
      "metadata": {
        "id": "le5t7BBfX5RB"
      },
      "source": [
        "options(warn=-1)\n",
        "y=ln_rt_portf\n",
        "x=ln_rt_snp500\n",
        "startvalue = c(1,0,1)\n",
        "N.sim=1000\n",
        "burnin=0\n",
        "\n",
        "set.seed(1)\n",
        "chain = run_metropolis(startvalue=startvalue\n",
        "                       ,N.sim=N.sim\n",
        "                       ,burnin=burnin)\n",
        "colnames(chain)=c(\"alpha\",\"beta\",\"lambda\")\n",
        "chain=chain[(burnin+1):nrow(chain),]\n",
        "options(warn=0)"
      ],
      "execution_count": null,
      "outputs": []
    },
    {
      "cell_type": "markdown",
      "metadata": {
        "id": "cPM_-ujg-lO7"
      },
      "source": [
        "Purposefully we choose starting value far from MLE and keep burn-in at 0; so that we can study the convergence behaviour."
      ]
    },
    {
      "cell_type": "code",
      "metadata": {
        "colab": {
          "base_uri": "https://localhost:8080/",
          "height": 437
        },
        "id": "5sVKBF9vX-ee",
        "outputId": "4692dd48-a2a3-4bf9-b7a8-3ff0cbd3ccbd"
      },
      "source": [
        "par(mfrow=c(3,2))\n",
        "plot(ts(chain[,\"alpha\"]),lwd=2\n",
        "     ,ylab = \"alpha\")\n",
        "plot(density(chain[,\"alpha\"]),lwd=2\n",
        "     ,main = \"\",col='red'\n",
        "     ,xlab = \"alpha\")\n",
        "plot(ts(chain[,\"beta\"]),lwd=2\n",
        "     ,ylab = \"beta\")\n",
        "plot(density(chain[,\"beta\"]),lwd=2\n",
        "     ,main = \"\",col='red'\n",
        "     ,xlab = \"beta\")\n",
        "plot(ts(chain[,\"lambda\"]),lwd=2\n",
        "     ,ylab = \"lambda\")\n",
        "plot(density(chain[,\"lambda\"]),lwd=2\n",
        "     ,main = \"\",col='red'\n",
        "     ,xlab = \"lambda\")\n",
        "\n"
      ],
      "execution_count": null,
      "outputs": [
        {
          "output_type": "display_data",
          "data": {
            "image/png": "[encoded data removed]",
            "text/plain": [
              "Plot with title “”"
            ]
          },
          "metadata": {
            "tags": [],
            "image/png": {
              "width": 420,
              "height": 420
            }
          }
        }
      ]
    },
    {
      "cell_type": "markdown",
      "metadata": {
        "id": "lriVK7_EzJVK"
      },
      "source": [
        "**What is the $\\mathbb{P}(\\alpha >0|y,x)$?**"
      ]
    },
    {
      "cell_type": "code",
      "metadata": {
        "colab": {
          "base_uri": "https://localhost:8080/",
          "height": 34
        },
        "id": "YIocUi1yzKrW",
        "outputId": "564197ed-4468-499a-81a1-5bb3a30208a6"
      },
      "source": [
        "alpha_star = chain[,'alpha']\n",
        "no.of.alpha.gt.zero = length(alpha_star[alpha_star>0])\n",
        "total.no.of.alpha = length(alpha_star)\n",
        "\n",
        "prob_a_gt_zero = (no.of.alpha.gt.zero/total.no.of.alpha)\n",
        "\n",
        "round(prob_a_gt_zero,4)"
      ],
      "execution_count": null,
      "outputs": [
        {
          "output_type": "display_data",
          "data": {
            "text/plain": [
              "[1] 0.8811"
            ],
            "text/latex": "0.8811",
            "text/markdown": "0.8811",
            "text/html": [
              "0.8811"
            ]
          },
          "metadata": {
            "tags": []
          }
        }
      ]
    },
    {
      "cell_type": "markdown",
      "metadata": {
        "id": "uxIxuoYJz1wK"
      },
      "source": [
        "**If you invest \\$100 today in the portfolio, what is the probability that it will be more than \\$105 by the end of month? In one month you can consider 22 business-days. You can consider annualised risk-free rate to be 0.5\\%.**"
      ]
    },
    {
      "cell_type": "code",
      "metadata": {
        "id": "HPQAOaUu0R7l"
      },
      "source": [
        "rfr = 0.5/250\n",
        "days = 22 \n",
        "count = 0\n",
        "for(i in 1:N.sim){\n",
        "  a_str = chain[i,'alpha']\n",
        "  b_str = chain[i,'beta']\n",
        "  lambda_str = chain[i,'lambda']\n",
        "  for(t in 1:days){\n",
        "    \n",
        "\n",
        "  }\n",
        "\n",
        "}"
      ],
      "execution_count": null,
      "outputs": []
    },
    {
      "cell_type": "markdown",
      "metadata": {
        "id": "079rMRvuuXpE"
      },
      "source": [
        "# **6. MCMC Convergence**\n",
        "\n",
        "## **Geweke Time-Series Disgnostics**\n",
        "\n",
        "- If we simulate large number of draws after burn-in, then mean (and variance) of a parameter's posterior distribution from first half of the chain will be equal to the mean (and variance) from the second half of the chain.\n",
        "\n",
        "- The value of this approach is that by allowing the algorithm to run for a very long time, it may reach areas of the posterior distribution that may not otherwise be reached.\n",
        "\n",
        "- The statistics to test convergence is\n",
        "$$\n",
        "z=\\frac{\\bar{\\theta}_a-\\bar{\\theta}_b}{\\sqrt{Var(\\theta_a)+Var(\\theta_b)}},\n",
        "$$\n",
        "where $a$ is the early interval and $b$ is the late interval.\n",
        "\n",
        "- If the chain has converged, the z-score should be within 2 standard deviation of zero.\n",
        "\n",
        "- That if $-2<z<2$ then we can say MCMC chain converged.\n",
        "\n",
        "- If $z<-2$ or $z>2$, then we can say MCMC chain has not converged."
      ]
    },
    {
      "cell_type": "code",
      "metadata": {
        "colab": {
          "base_uri": "https://localhost:8080/"
        },
        "id": "5tM46mG03103",
        "outputId": "500436e0-3e0c-4551-ce91-d36769be2e6c"
      },
      "source": [
        "## Geweke Statistics\n",
        "alpha_star = chain[1:200,'alpha']\n",
        "n_str = length(alpha_star)\n",
        "m_str = floor(n_str/2)\n",
        "#m_str\n",
        "alpha_star_1 = alpha_star[1:m_str]\n",
        "alpha_star_2 = alpha_star[(m_str+1):(n_str)]\n",
        "\n",
        "z = (mean(alpha_star_1)-mean(alpha_star_2))/sqrt(var(alpha_star_1)+var(alpha_star_2))\n",
        "cat('Geweke Statistics = ',z,'\\n')"
      ],
      "execution_count": null,
      "outputs": [
        {
          "output_type": "stream",
          "text": [
            "Geweke Statistics =  1.048547 \n"
          ],
          "name": "stdout"
        }
      ]
    },
    {
      "cell_type": "markdown",
      "metadata": {
        "id": "7x1kQb2R5lJI"
      },
      "source": [
        "## **Gelman-Rubin Diagnostic**\n",
        "\n",
        "- Gelman (especially) argues that the best to identify non-converegence is to simulate multiple sequences for over-dispersed starting point\n",
        "\n",
        "- The intuition is that the behavior of all the chains should be basically same\n",
        "\n",
        "- or as Gelman and Rubin put it, the variance within the chain should be the same as the variance across the chains.\n",
        "\n",
        "\n",
        "- The Gelman-Rubin diagnostic uses an analysis of variance approach to assessing convergence. \n",
        "\n",
        "- It calculate Between-Chain variance (B) as\n",
        "$$\n",
        "B = \\frac{m}{m-1}\\sum_{j=1}^{m}(\\bar{\\theta}_{0j}-\\bar{\\theta}_{00})^2\n",
        "$$\n",
        "and within-chain variance (W) as,\n",
        "$$\n",
        "W=\\frac{1}{m}\\sum_{j=1}^{m}\\Big[\\frac{1}{n-1}\\sum_{i=1}^{n}(\\theta_{ij}-\\bar{\\theta}_{0j})^2\\Big]\n",
        "$$\n",
        "and assesses whether they are different enough to worry about the converegence.\n",
        "\n",
        "- The marginal posterior variance of $\\theta$ is\n",
        "$$\n",
        "Var(\\theta|Data) = \\frac{n-1}{n}W+\\frac{1}{n}B\n",
        "$$\n",
        "\n",
        "- **Gelman-Rubin Statistics** montor convergence as\n",
        "$$\n",
        "R=\\sqrt{\\frac{Var(\\theta|Data)}{W}}\n",
        "$$\n",
        "\n",
        "- If converges $R$ would be close to 1"
      ]
    },
    {
      "cell_type": "code",
      "metadata": {
        "id": "7bj8F5vT9lnH"
      },
      "source": [
        "## Implement with 5 chains\n",
        "\n",
        "options(warn=-1)\n",
        "y=ln_rt_portf\n",
        "x=ln_rt_snp500\n",
        "\n",
        "N.sim=5500\n",
        "burnin=500\n",
        "\n",
        "set.seed(1)\n",
        "startvalue = c(1,0,1)\n",
        "chain1 = run_metropolis(startvalue=startvalue\n",
        "                       ,N.sim=N.sim\n",
        "                       ,burnin=burnin)\n",
        "colnames(chain1)=c(\"alpha\",\"beta\",\"lambda\")\n",
        "chain1=chain1[(burnin+1):nrow(chain1),]\n",
        "\n",
        "startvalue = c(0,0,1)\n",
        "chain2 = run_metropolis(startvalue=startvalue\n",
        "                       ,N.sim=N.sim\n",
        "                       ,burnin=burnin)\n",
        "colnames(chain2)=c(\"alpha\",\"beta\",\"lambda\")\n",
        "chain2=chain2[(burnin+1):nrow(chain2),]\n",
        "\n",
        "startvalue = c(0,1,0.5)\n",
        "chain3 = run_metropolis(startvalue=startvalue\n",
        "                       ,N.sim=N.sim\n",
        "                       ,burnin=burnin)\n",
        "colnames(chain3)=c(\"alpha\",\"beta\",\"lambda\")\n",
        "chain3=chain3[(burnin+1):nrow(chain3),]\n",
        "\n",
        "startvalue = c(1,0,1)\n",
        "chain4 = run_metropolis(startvalue=startvalue\n",
        "                       ,N.sim=N.sim\n",
        "                       ,burnin=burnin)\n",
        "colnames(chain4)=c(\"alpha\",\"beta\",\"lambda\")\n",
        "chain4=chain4[(burnin+1):nrow(chain4),]\n",
        "\n",
        "startvalue = c(1,0,1)\n",
        "chain5 = run_metropolis(startvalue=startvalue\n",
        "                       ,N.sim=N.sim\n",
        "                       ,burnin=burnin)\n",
        "colnames(chain5)=c(\"alpha\",\"beta\",\"lambda\")\n",
        "chain5=chain5[(burnin+1):nrow(chain5),]\n",
        "options(warn=0)"
      ],
      "execution_count": null,
      "outputs": []
    },
    {
      "cell_type": "markdown",
      "metadata": {
        "id": "XL1vN-fvBtqX"
      },
      "source": [
        "### **Gelman Rubin Statistics**"
      ]
    },
    {
      "cell_type": "code",
      "metadata": {
        "colab": {
          "base_uri": "https://localhost:8080/"
        },
        "id": "JXtEqPmK-cKK",
        "outputId": "3e0d3eed-4537-48ce-f8d3-3825b26a4213"
      },
      "source": [
        "## Gelman-Rubin Statistics for alpha\n",
        "\n",
        "n_str = length(chain1[(burnin+1):nrow(chain1),'alpha'])\n",
        "m_str = 5\n",
        "\n",
        "alpha_star_1 = chain1[(burnin+1):nrow(chain1),'alpha']\n",
        "alpha_star_2 = chain2[(burnin+1):nrow(chain2),'alpha']\n",
        "alpha_star_3 = chain3[(burnin+1):nrow(chain3),'alpha']\n",
        "alpha_star_4 = chain4[(burnin+1):nrow(chain4),'alpha']\n",
        "alpha_star_5 = chain5[(burnin+1):nrow(chain5),'alpha']\n",
        "\n",
        "a1 = mean(alpha_star_1)\n",
        "a2 = mean(alpha_star_2)\n",
        "a3 = mean(alpha_star_3)\n",
        "a4 = mean(alpha_star_4)\n",
        "a5 = mean(alpha_star_5)\n",
        "\n",
        "ai_bar = c(a1,a2,a3,a4,a5)\n",
        "\n",
        "a_bar = mean(ai_bar)\n",
        "\n",
        "B = m_str/(m_str-1)*sum((ai_bar-a_bar)^2)\n",
        "cat('B = ',B,'\\n')\n",
        "\n",
        "W =(1/m_str)*sum(var(alpha_star_1)+var(alpha_star_2)+var(alpha_star_3)+var(alpha_star_4)+var(alpha_star_5))\n",
        "cat('W = ',W,'\\n')\n",
        "\n",
        "marginal_var_alpha = ((n_str-1)/n_str)*W+(B/n_str)\n",
        "cat('marginal posterior variance = ',marginal_var_alpha,'\\n')\n",
        "\n",
        "R_hat = sqrt(marginal_var_alpha/W)\n",
        "cat('Gelman Rubin Statistic = ',round(R_hat,4),'\\n')\n"
      ],
      "execution_count": null,
      "outputs": [
        {
          "output_type": "stream",
          "text": [
            "B =  2.270146e-05 \n",
            "W =  0.001166209 \n",
            "marginal posterior variance =  0.00116598 \n",
            "Gelman Rubin Statistic =  0.9999 \n"
          ],
          "name": "stdout"
        }
      ]
    }
  ]
}